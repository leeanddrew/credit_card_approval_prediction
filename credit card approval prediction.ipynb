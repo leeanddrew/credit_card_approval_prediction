{
 "cells": [
  {
   "cell_type": "markdown",
   "id": "1ab43a6c",
   "metadata": {},
   "source": [
    "# Credit Card Ap"
   ]
  },
  {
   "cell_type": "code",
   "execution_count": 394,
   "id": "26d17d8a",
   "metadata": {},
   "outputs": [],
   "source": [
    "import pandas as pd\n",
    "import numpy as np\n",
    "import seaborn as sns\n",
    "import matplotlib.pyplot as plt\n",
    "from intro_Data import *\n",
    "%matplotlib inline"
   ]
  },
  {
   "cell_type": "code",
   "execution_count": 307,
   "id": "8006765d",
   "metadata": {},
   "outputs": [],
   "source": [
    "data = pd.read_csv('cc_approvals.data',header=None)"
   ]
  },
  {
   "cell_type": "code",
   "execution_count": 308,
   "id": "99df49ee",
   "metadata": {},
   "outputs": [],
   "source": [
    "attribute = ['A'+str(i+1) for i in range(len(data.columns))]"
   ]
  },
  {
   "cell_type": "code",
   "execution_count": 309,
   "id": "23fc46ca",
   "metadata": {},
   "outputs": [],
   "source": [
    "data.columns = attribute"
   ]
  },
  {
   "cell_type": "code",
   "execution_count": 310,
   "id": "b99b1798",
   "metadata": {},
   "outputs": [
    {
     "data": {
      "text/html": [
       "<div>\n",
       "<style scoped>\n",
       "    .dataframe tbody tr th:only-of-type {\n",
       "        vertical-align: middle;\n",
       "    }\n",
       "\n",
       "    .dataframe tbody tr th {\n",
       "        vertical-align: top;\n",
       "    }\n",
       "\n",
       "    .dataframe thead th {\n",
       "        text-align: right;\n",
       "    }\n",
       "</style>\n",
       "<table border=\"1\" class=\"dataframe\">\n",
       "  <thead>\n",
       "    <tr style=\"text-align: right;\">\n",
       "      <th></th>\n",
       "      <th>A1</th>\n",
       "      <th>A2</th>\n",
       "      <th>A3</th>\n",
       "      <th>A4</th>\n",
       "      <th>A5</th>\n",
       "      <th>A6</th>\n",
       "      <th>A7</th>\n",
       "      <th>A8</th>\n",
       "      <th>A9</th>\n",
       "      <th>A10</th>\n",
       "      <th>A11</th>\n",
       "      <th>A12</th>\n",
       "      <th>A13</th>\n",
       "      <th>A14</th>\n",
       "      <th>A15</th>\n",
       "      <th>A16</th>\n",
       "    </tr>\n",
       "  </thead>\n",
       "  <tbody>\n",
       "    <tr>\n",
       "      <th>0</th>\n",
       "      <td>b</td>\n",
       "      <td>30.83</td>\n",
       "      <td>0.000</td>\n",
       "      <td>u</td>\n",
       "      <td>g</td>\n",
       "      <td>w</td>\n",
       "      <td>v</td>\n",
       "      <td>1.25</td>\n",
       "      <td>t</td>\n",
       "      <td>t</td>\n",
       "      <td>1</td>\n",
       "      <td>f</td>\n",
       "      <td>g</td>\n",
       "      <td>00202</td>\n",
       "      <td>0</td>\n",
       "      <td>+</td>\n",
       "    </tr>\n",
       "    <tr>\n",
       "      <th>1</th>\n",
       "      <td>a</td>\n",
       "      <td>58.67</td>\n",
       "      <td>4.460</td>\n",
       "      <td>u</td>\n",
       "      <td>g</td>\n",
       "      <td>q</td>\n",
       "      <td>h</td>\n",
       "      <td>3.04</td>\n",
       "      <td>t</td>\n",
       "      <td>t</td>\n",
       "      <td>6</td>\n",
       "      <td>f</td>\n",
       "      <td>g</td>\n",
       "      <td>00043</td>\n",
       "      <td>560</td>\n",
       "      <td>+</td>\n",
       "    </tr>\n",
       "    <tr>\n",
       "      <th>2</th>\n",
       "      <td>a</td>\n",
       "      <td>24.50</td>\n",
       "      <td>0.500</td>\n",
       "      <td>u</td>\n",
       "      <td>g</td>\n",
       "      <td>q</td>\n",
       "      <td>h</td>\n",
       "      <td>1.50</td>\n",
       "      <td>t</td>\n",
       "      <td>f</td>\n",
       "      <td>0</td>\n",
       "      <td>f</td>\n",
       "      <td>g</td>\n",
       "      <td>00280</td>\n",
       "      <td>824</td>\n",
       "      <td>+</td>\n",
       "    </tr>\n",
       "    <tr>\n",
       "      <th>3</th>\n",
       "      <td>b</td>\n",
       "      <td>27.83</td>\n",
       "      <td>1.540</td>\n",
       "      <td>u</td>\n",
       "      <td>g</td>\n",
       "      <td>w</td>\n",
       "      <td>v</td>\n",
       "      <td>3.75</td>\n",
       "      <td>t</td>\n",
       "      <td>t</td>\n",
       "      <td>5</td>\n",
       "      <td>t</td>\n",
       "      <td>g</td>\n",
       "      <td>00100</td>\n",
       "      <td>3</td>\n",
       "      <td>+</td>\n",
       "    </tr>\n",
       "    <tr>\n",
       "      <th>4</th>\n",
       "      <td>b</td>\n",
       "      <td>20.17</td>\n",
       "      <td>5.625</td>\n",
       "      <td>u</td>\n",
       "      <td>g</td>\n",
       "      <td>w</td>\n",
       "      <td>v</td>\n",
       "      <td>1.71</td>\n",
       "      <td>t</td>\n",
       "      <td>f</td>\n",
       "      <td>0</td>\n",
       "      <td>f</td>\n",
       "      <td>s</td>\n",
       "      <td>00120</td>\n",
       "      <td>0</td>\n",
       "      <td>+</td>\n",
       "    </tr>\n",
       "  </tbody>\n",
       "</table>\n",
       "</div>"
      ],
      "text/plain": [
       "  A1     A2     A3 A4 A5 A6 A7    A8 A9 A10  A11 A12 A13    A14  A15 A16\n",
       "0  b  30.83  0.000  u  g  w  v  1.25  t   t    1   f   g  00202    0   +\n",
       "1  a  58.67  4.460  u  g  q  h  3.04  t   t    6   f   g  00043  560   +\n",
       "2  a  24.50  0.500  u  g  q  h  1.50  t   f    0   f   g  00280  824   +\n",
       "3  b  27.83  1.540  u  g  w  v  3.75  t   t    5   t   g  00100    3   +\n",
       "4  b  20.17  5.625  u  g  w  v  1.71  t   f    0   f   s  00120    0   +"
      ]
     },
     "execution_count": 310,
     "metadata": {},
     "output_type": "execute_result"
    }
   ],
   "source": [
    "data.head()"
   ]
  },
  {
   "cell_type": "code",
   "execution_count": 311,
   "id": "b98cbc30",
   "metadata": {},
   "outputs": [
    {
     "name": "stdout",
     "output_type": "stream",
     "text": [
      "<class 'pandas.core.frame.DataFrame'>\n",
      "RangeIndex: 690 entries, 0 to 689\n",
      "Data columns (total 16 columns):\n",
      " #   Column  Non-Null Count  Dtype  \n",
      "---  ------  --------------  -----  \n",
      " 0   A1      690 non-null    object \n",
      " 1   A2      690 non-null    object \n",
      " 2   A3      690 non-null    float64\n",
      " 3   A4      690 non-null    object \n",
      " 4   A5      690 non-null    object \n",
      " 5   A6      690 non-null    object \n",
      " 6   A7      690 non-null    object \n",
      " 7   A8      690 non-null    float64\n",
      " 8   A9      690 non-null    object \n",
      " 9   A10     690 non-null    object \n",
      " 10  A11     690 non-null    int64  \n",
      " 11  A12     690 non-null    object \n",
      " 12  A13     690 non-null    object \n",
      " 13  A14     690 non-null    object \n",
      " 14  A15     690 non-null    int64  \n",
      " 15  A16     690 non-null    object \n",
      "dtypes: float64(2), int64(2), object(12)\n",
      "memory usage: 86.4+ KB\n"
     ]
    }
   ],
   "source": [
    "data.info()"
   ]
  },
  {
   "cell_type": "code",
   "execution_count": 312,
   "id": "2749e538",
   "metadata": {},
   "outputs": [],
   "source": [
    "data['A16'] = data['A16'].apply(lambda x: 1 if x=='+' else 0)"
   ]
  },
  {
   "cell_type": "code",
   "execution_count": 313,
   "id": "1d27cc44",
   "metadata": {},
   "outputs": [],
   "source": [
    "for columns in data.columns:\n",
    "    data[columns] = data[columns].apply(lambda x: np.nan if x=='?' else x)"
   ]
  },
  {
   "cell_type": "code",
   "execution_count": 314,
   "id": "f229499f",
   "metadata": {},
   "outputs": [],
   "source": [
    "data['A2'] = data['A2'].astype('float64')\n",
    "data['A8'] = data['A8'].astype('float64')\n",
    "data['A14'] = data['A14'].astype('float64')"
   ]
  },
  {
   "cell_type": "code",
   "execution_count": 315,
   "id": "75bbbc14",
   "metadata": {
    "scrolled": true
   },
   "outputs": [
    {
     "name": "stdout",
     "output_type": "stream",
     "text": [
      "A1 has 2 unique values\n",
      "A2 has 349 unique values\n",
      "A3 has 215 unique values\n",
      "A4 has 3 unique values\n",
      "A5 has 3 unique values\n",
      "A6 has 14 unique values\n",
      "A7 has 9 unique values\n",
      "A8 has 132 unique values\n",
      "A9 has 2 unique values\n",
      "A10 has 2 unique values\n",
      "A11 has 23 unique values\n",
      "A12 has 2 unique values\n",
      "A13 has 3 unique values\n",
      "A14 has 170 unique values\n",
      "A15 has 240 unique values\n",
      "A16 has 2 unique values\n"
     ]
    }
   ],
   "source": [
    "for columns in data.columns:\n",
    "    print(columns,'has',data[columns].nunique(),'unique values')"
   ]
  },
  {
   "cell_type": "code",
   "execution_count": 316,
   "id": "ac7d22e2",
   "metadata": {},
   "outputs": [],
   "source": [
    "mask = np.triu(corr_matrix)\n",
    "cols = ['A2','A3','A8','A11','A14','A15']\n",
    "corr_matrix = data[cols].corr()"
   ]
  },
  {
   "cell_type": "code",
   "execution_count": 317,
   "id": "d5980820",
   "metadata": {},
   "outputs": [
    {
     "data": {
      "text/plain": [
       "<AxesSubplot:>"
      ]
     },
     "execution_count": 317,
     "metadata": {},
     "output_type": "execute_result"
    },
    {
     "data": {
      "image/png": "[encoded data removed]",
      "text/plain": [
       "<Figure size 640x480 with 2 Axes>"
      ]
     },
     "metadata": {},
     "output_type": "display_data"
    }
   ],
   "source": [
    "sns.heatmap(corr_matrix,mask=mask,annot=True,cmap='BuPu',vmin=-1,vmax=1,\n",
    "           fmt='.2f',xticklabels=cols[:-1],yticklabels=['']+cols[1:])"
   ]
  },
  {
   "cell_type": "markdown",
   "id": "79905907",
   "metadata": {},
   "source": [
    "Numerical values don't seem to have any strong linear correlation."
   ]
  },
  {
   "cell_type": "code",
   "execution_count": 318,
   "id": "4f604deb",
   "metadata": {},
   "outputs": [
    {
     "data": {
      "text/plain": [
       "<AxesSubplot:>"
      ]
     },
     "execution_count": 318,
     "metadata": {},
     "output_type": "execute_result"
    },
    {
     "data": {
      "image/png": "[encoded data removed]",
      "text/plain": [
       "<Figure size 640x480 with 2 Axes>"
      ]
     },
     "metadata": {},
     "output_type": "display_data"
    }
   ],
   "source": [
    "sns.heatmap(data.isnull())"
   ]
  },
  {
   "cell_type": "code",
   "execution_count": 320,
   "id": "8ec6d69c",
   "metadata": {},
   "outputs": [],
   "source": [
    "for columns in cols:\n",
    "    median = np.nanmedian(data[columns])\n",
    "    data[columns] = data[columns].apply(lambda x: median if pd.isnull(x) else x)"
   ]
  },
  {
   "cell_type": "code",
   "execution_count": 322,
   "id": "cea8574a",
   "metadata": {},
   "outputs": [
    {
     "name": "stdout",
     "output_type": "stream",
     "text": [
      "A1 has 12 missing values\n",
      "A2 has 0 missing values\n",
      "A3 has 0 missing values\n",
      "A4 has 6 missing values\n",
      "A5 has 6 missing values\n",
      "A6 has 9 missing values\n",
      "A7 has 9 missing values\n",
      "A8 has 0 missing values\n",
      "A9 has 0 missing values\n",
      "A10 has 0 missing values\n",
      "A11 has 0 missing values\n",
      "A12 has 0 missing values\n",
      "A13 has 0 missing values\n",
      "A14 has 0 missing values\n",
      "A15 has 0 missing values\n",
      "A16 has 0 missing values\n"
     ]
    }
   ],
   "source": [
    "for columns in data.columns:\n",
    "    print(columns,'has',data[columns].isnull().sum(),'missing values')"
   ]
  },
  {
   "cell_type": "markdown",
   "id": "023baef6",
   "metadata": {},
   "source": [
    "We will drop other missing values as we cannot infer anything about them."
   ]
  },
  {
   "cell_type": "code",
   "execution_count": 326,
   "id": "189b8d36",
   "metadata": {},
   "outputs": [],
   "source": [
    "data = data.dropna()"
   ]
  },
  {
   "cell_type": "code",
   "execution_count": 328,
   "id": "e575bdcb",
   "metadata": {},
   "outputs": [
    {
     "data": {
      "text/html": [
       "<div>\n",
       "<style scoped>\n",
       "    .dataframe tbody tr th:only-of-type {\n",
       "        vertical-align: middle;\n",
       "    }\n",
       "\n",
       "    .dataframe tbody tr th {\n",
       "        vertical-align: top;\n",
       "    }\n",
       "\n",
       "    .dataframe thead th {\n",
       "        text-align: right;\n",
       "    }\n",
       "</style>\n",
       "<table border=\"1\" class=\"dataframe\">\n",
       "  <thead>\n",
       "    <tr style=\"text-align: right;\">\n",
       "      <th></th>\n",
       "      <th>A1</th>\n",
       "      <th>A2</th>\n",
       "      <th>A3</th>\n",
       "      <th>A4</th>\n",
       "      <th>A5</th>\n",
       "      <th>A6</th>\n",
       "      <th>A7</th>\n",
       "      <th>A8</th>\n",
       "      <th>A9</th>\n",
       "      <th>A10</th>\n",
       "      <th>A11</th>\n",
       "      <th>A12</th>\n",
       "      <th>A13</th>\n",
       "      <th>A14</th>\n",
       "      <th>A15</th>\n",
       "      <th>A16</th>\n",
       "    </tr>\n",
       "  </thead>\n",
       "  <tbody>\n",
       "    <tr>\n",
       "      <th>0</th>\n",
       "      <td>b</td>\n",
       "      <td>30.83</td>\n",
       "      <td>0.000</td>\n",
       "      <td>u</td>\n",
       "      <td>g</td>\n",
       "      <td>w</td>\n",
       "      <td>v</td>\n",
       "      <td>1.25</td>\n",
       "      <td>t</td>\n",
       "      <td>t</td>\n",
       "      <td>1</td>\n",
       "      <td>f</td>\n",
       "      <td>g</td>\n",
       "      <td>202.0</td>\n",
       "      <td>0</td>\n",
       "      <td>1</td>\n",
       "    </tr>\n",
       "    <tr>\n",
       "      <th>1</th>\n",
       "      <td>a</td>\n",
       "      <td>58.67</td>\n",
       "      <td>4.460</td>\n",
       "      <td>u</td>\n",
       "      <td>g</td>\n",
       "      <td>q</td>\n",
       "      <td>h</td>\n",
       "      <td>3.04</td>\n",
       "      <td>t</td>\n",
       "      <td>t</td>\n",
       "      <td>6</td>\n",
       "      <td>f</td>\n",
       "      <td>g</td>\n",
       "      <td>43.0</td>\n",
       "      <td>560</td>\n",
       "      <td>1</td>\n",
       "    </tr>\n",
       "    <tr>\n",
       "      <th>2</th>\n",
       "      <td>a</td>\n",
       "      <td>24.50</td>\n",
       "      <td>0.500</td>\n",
       "      <td>u</td>\n",
       "      <td>g</td>\n",
       "      <td>q</td>\n",
       "      <td>h</td>\n",
       "      <td>1.50</td>\n",
       "      <td>t</td>\n",
       "      <td>f</td>\n",
       "      <td>0</td>\n",
       "      <td>f</td>\n",
       "      <td>g</td>\n",
       "      <td>280.0</td>\n",
       "      <td>824</td>\n",
       "      <td>1</td>\n",
       "    </tr>\n",
       "    <tr>\n",
       "      <th>3</th>\n",
       "      <td>b</td>\n",
       "      <td>27.83</td>\n",
       "      <td>1.540</td>\n",
       "      <td>u</td>\n",
       "      <td>g</td>\n",
       "      <td>w</td>\n",
       "      <td>v</td>\n",
       "      <td>3.75</td>\n",
       "      <td>t</td>\n",
       "      <td>t</td>\n",
       "      <td>5</td>\n",
       "      <td>t</td>\n",
       "      <td>g</td>\n",
       "      <td>100.0</td>\n",
       "      <td>3</td>\n",
       "      <td>1</td>\n",
       "    </tr>\n",
       "    <tr>\n",
       "      <th>4</th>\n",
       "      <td>b</td>\n",
       "      <td>20.17</td>\n",
       "      <td>5.625</td>\n",
       "      <td>u</td>\n",
       "      <td>g</td>\n",
       "      <td>w</td>\n",
       "      <td>v</td>\n",
       "      <td>1.71</td>\n",
       "      <td>t</td>\n",
       "      <td>f</td>\n",
       "      <td>0</td>\n",
       "      <td>f</td>\n",
       "      <td>s</td>\n",
       "      <td>120.0</td>\n",
       "      <td>0</td>\n",
       "      <td>1</td>\n",
       "    </tr>\n",
       "  </tbody>\n",
       "</table>\n",
       "</div>"
      ],
      "text/plain": [
       "  A1     A2     A3 A4 A5 A6 A7    A8 A9 A10  A11 A12 A13    A14  A15  A16\n",
       "0  b  30.83  0.000  u  g  w  v  1.25  t   t    1   f   g  202.0    0    1\n",
       "1  a  58.67  4.460  u  g  q  h  3.04  t   t    6   f   g   43.0  560    1\n",
       "2  a  24.50  0.500  u  g  q  h  1.50  t   f    0   f   g  280.0  824    1\n",
       "3  b  27.83  1.540  u  g  w  v  3.75  t   t    5   t   g  100.0    3    1\n",
       "4  b  20.17  5.625  u  g  w  v  1.71  t   f    0   f   s  120.0    0    1"
      ]
     },
     "execution_count": 328,
     "metadata": {},
     "output_type": "execute_result"
    }
   ],
   "source": [
    "data.head()"
   ]
  },
  {
   "cell_type": "code",
   "execution_count": 352,
   "id": "cbd0f7f8",
   "metadata": {},
   "outputs": [],
   "source": [
    "feature = data.drop('A16',axis=1)\n",
    "target = data['A16']"
   ]
  },
  {
   "cell_type": "code",
   "execution_count": 353,
   "id": "70f8b723",
   "metadata": {},
   "outputs": [
    {
     "data": {
      "text/html": [
       "<div>\n",
       "<style scoped>\n",
       "    .dataframe tbody tr th:only-of-type {\n",
       "        vertical-align: middle;\n",
       "    }\n",
       "\n",
       "    .dataframe tbody tr th {\n",
       "        vertical-align: top;\n",
       "    }\n",
       "\n",
       "    .dataframe thead th {\n",
       "        text-align: right;\n",
       "    }\n",
       "</style>\n",
       "<table border=\"1\" class=\"dataframe\">\n",
       "  <thead>\n",
       "    <tr style=\"text-align: right;\">\n",
       "      <th></th>\n",
       "      <th>A1</th>\n",
       "      <th>A2</th>\n",
       "      <th>A3</th>\n",
       "      <th>A4</th>\n",
       "      <th>A5</th>\n",
       "      <th>A6</th>\n",
       "      <th>A7</th>\n",
       "      <th>A8</th>\n",
       "      <th>A9</th>\n",
       "      <th>A10</th>\n",
       "      <th>A11</th>\n",
       "      <th>A12</th>\n",
       "      <th>A13</th>\n",
       "      <th>A14</th>\n",
       "      <th>A15</th>\n",
       "    </tr>\n",
       "  </thead>\n",
       "  <tbody>\n",
       "    <tr>\n",
       "      <th>0</th>\n",
       "      <td>b</td>\n",
       "      <td>30.83</td>\n",
       "      <td>0.000</td>\n",
       "      <td>u</td>\n",
       "      <td>g</td>\n",
       "      <td>w</td>\n",
       "      <td>v</td>\n",
       "      <td>1.25</td>\n",
       "      <td>t</td>\n",
       "      <td>t</td>\n",
       "      <td>1</td>\n",
       "      <td>f</td>\n",
       "      <td>g</td>\n",
       "      <td>202.0</td>\n",
       "      <td>0</td>\n",
       "    </tr>\n",
       "    <tr>\n",
       "      <th>1</th>\n",
       "      <td>a</td>\n",
       "      <td>58.67</td>\n",
       "      <td>4.460</td>\n",
       "      <td>u</td>\n",
       "      <td>g</td>\n",
       "      <td>q</td>\n",
       "      <td>h</td>\n",
       "      <td>3.04</td>\n",
       "      <td>t</td>\n",
       "      <td>t</td>\n",
       "      <td>6</td>\n",
       "      <td>f</td>\n",
       "      <td>g</td>\n",
       "      <td>43.0</td>\n",
       "      <td>560</td>\n",
       "    </tr>\n",
       "    <tr>\n",
       "      <th>2</th>\n",
       "      <td>a</td>\n",
       "      <td>24.50</td>\n",
       "      <td>0.500</td>\n",
       "      <td>u</td>\n",
       "      <td>g</td>\n",
       "      <td>q</td>\n",
       "      <td>h</td>\n",
       "      <td>1.50</td>\n",
       "      <td>t</td>\n",
       "      <td>f</td>\n",
       "      <td>0</td>\n",
       "      <td>f</td>\n",
       "      <td>g</td>\n",
       "      <td>280.0</td>\n",
       "      <td>824</td>\n",
       "    </tr>\n",
       "    <tr>\n",
       "      <th>3</th>\n",
       "      <td>b</td>\n",
       "      <td>27.83</td>\n",
       "      <td>1.540</td>\n",
       "      <td>u</td>\n",
       "      <td>g</td>\n",
       "      <td>w</td>\n",
       "      <td>v</td>\n",
       "      <td>3.75</td>\n",
       "      <td>t</td>\n",
       "      <td>t</td>\n",
       "      <td>5</td>\n",
       "      <td>t</td>\n",
       "      <td>g</td>\n",
       "      <td>100.0</td>\n",
       "      <td>3</td>\n",
       "    </tr>\n",
       "    <tr>\n",
       "      <th>4</th>\n",
       "      <td>b</td>\n",
       "      <td>20.17</td>\n",
       "      <td>5.625</td>\n",
       "      <td>u</td>\n",
       "      <td>g</td>\n",
       "      <td>w</td>\n",
       "      <td>v</td>\n",
       "      <td>1.71</td>\n",
       "      <td>t</td>\n",
       "      <td>f</td>\n",
       "      <td>0</td>\n",
       "      <td>f</td>\n",
       "      <td>s</td>\n",
       "      <td>120.0</td>\n",
       "      <td>0</td>\n",
       "    </tr>\n",
       "  </tbody>\n",
       "</table>\n",
       "</div>"
      ],
      "text/plain": [
       "  A1     A2     A3 A4 A5 A6 A7    A8 A9 A10  A11 A12 A13    A14  A15\n",
       "0  b  30.83  0.000  u  g  w  v  1.25  t   t    1   f   g  202.0    0\n",
       "1  a  58.67  4.460  u  g  q  h  3.04  t   t    6   f   g   43.0  560\n",
       "2  a  24.50  0.500  u  g  q  h  1.50  t   f    0   f   g  280.0  824\n",
       "3  b  27.83  1.540  u  g  w  v  3.75  t   t    5   t   g  100.0    3\n",
       "4  b  20.17  5.625  u  g  w  v  1.71  t   f    0   f   s  120.0    0"
      ]
     },
     "execution_count": 353,
     "metadata": {},
     "output_type": "execute_result"
    }
   ],
   "source": [
    "feature.head()"
   ]
  },
  {
   "cell_type": "markdown",
   "id": "4c8708a8",
   "metadata": {},
   "source": [
    "Create dummy variables for categorical data"
   ]
  },
  {
   "cell_type": "code",
   "execution_count": 354,
   "id": "63ccf55e",
   "metadata": {},
   "outputs": [],
   "source": [
    "A1 = pd.get_dummies(feature['A1'],drop_first=True)\n",
    "A4 = pd.get_dummies(feature['A4'],drop_first=True)\n",
    "A5 = pd.get_dummies(feature['A5'],drop_first=True)\n",
    "A6 = pd.get_dummies(feature['A6'],drop_first=True)\n",
    "A7 = pd.get_dummies(feature['A7'],drop_first=True)\n",
    "A9 = pd.get_dummies(feature['A9'],drop_first=True)\n",
    "A10 = pd.get_dummies(feature['A10'],drop_first=True)\n",
    "A12 = pd.get_dummies(feature['A12'],drop_first=True)\n",
    "A13 = pd.get_dummies(feature['A13'],drop_first=True)"
   ]
  },
  {
   "cell_type": "code",
   "execution_count": 355,
   "id": "74548448",
   "metadata": {},
   "outputs": [],
   "source": [
    "dummy_col = ['A1','A4','A5','A6','A7','A9','A10','A12','A13']\n",
    "feature = feature.drop(dummy_col,axis=1)"
   ]
  },
  {
   "cell_type": "code",
   "execution_count": 356,
   "id": "9ea0b8d6",
   "metadata": {},
   "outputs": [],
   "source": [
    "feature = pd.concat([feature,A1,A4,A5,A6,A7,A9,A10,A12,A13],axis=1)"
   ]
  },
  {
   "cell_type": "code",
   "execution_count": 357,
   "id": "98d60e17",
   "metadata": {},
   "outputs": [
    {
     "data": {
      "text/html": [
       "<div>\n",
       "<style scoped>\n",
       "    .dataframe tbody tr th:only-of-type {\n",
       "        vertical-align: middle;\n",
       "    }\n",
       "\n",
       "    .dataframe tbody tr th {\n",
       "        vertical-align: top;\n",
       "    }\n",
       "\n",
       "    .dataframe thead th {\n",
       "        text-align: right;\n",
       "    }\n",
       "</style>\n",
       "<table border=\"1\" class=\"dataframe\">\n",
       "  <thead>\n",
       "    <tr style=\"text-align: right;\">\n",
       "      <th></th>\n",
       "      <th>A2</th>\n",
       "      <th>A3</th>\n",
       "      <th>A8</th>\n",
       "      <th>A11</th>\n",
       "      <th>A14</th>\n",
       "      <th>A15</th>\n",
       "      <th>b</th>\n",
       "      <th>u</th>\n",
       "      <th>y</th>\n",
       "      <th>gg</th>\n",
       "      <th>...</th>\n",
       "      <th>j</th>\n",
       "      <th>n</th>\n",
       "      <th>o</th>\n",
       "      <th>v</th>\n",
       "      <th>z</th>\n",
       "      <th>t</th>\n",
       "      <th>t</th>\n",
       "      <th>t</th>\n",
       "      <th>p</th>\n",
       "      <th>s</th>\n",
       "    </tr>\n",
       "  </thead>\n",
       "  <tbody>\n",
       "    <tr>\n",
       "      <th>0</th>\n",
       "      <td>30.83</td>\n",
       "      <td>0.000</td>\n",
       "      <td>1.25</td>\n",
       "      <td>1</td>\n",
       "      <td>202.0</td>\n",
       "      <td>0</td>\n",
       "      <td>1</td>\n",
       "      <td>1</td>\n",
       "      <td>0</td>\n",
       "      <td>0</td>\n",
       "      <td>...</td>\n",
       "      <td>0</td>\n",
       "      <td>0</td>\n",
       "      <td>0</td>\n",
       "      <td>1</td>\n",
       "      <td>0</td>\n",
       "      <td>1</td>\n",
       "      <td>1</td>\n",
       "      <td>0</td>\n",
       "      <td>0</td>\n",
       "      <td>0</td>\n",
       "    </tr>\n",
       "    <tr>\n",
       "      <th>1</th>\n",
       "      <td>58.67</td>\n",
       "      <td>4.460</td>\n",
       "      <td>3.04</td>\n",
       "      <td>6</td>\n",
       "      <td>43.0</td>\n",
       "      <td>560</td>\n",
       "      <td>0</td>\n",
       "      <td>1</td>\n",
       "      <td>0</td>\n",
       "      <td>0</td>\n",
       "      <td>...</td>\n",
       "      <td>0</td>\n",
       "      <td>0</td>\n",
       "      <td>0</td>\n",
       "      <td>0</td>\n",
       "      <td>0</td>\n",
       "      <td>1</td>\n",
       "      <td>1</td>\n",
       "      <td>0</td>\n",
       "      <td>0</td>\n",
       "      <td>0</td>\n",
       "    </tr>\n",
       "    <tr>\n",
       "      <th>2</th>\n",
       "      <td>24.50</td>\n",
       "      <td>0.500</td>\n",
       "      <td>1.50</td>\n",
       "      <td>0</td>\n",
       "      <td>280.0</td>\n",
       "      <td>824</td>\n",
       "      <td>0</td>\n",
       "      <td>1</td>\n",
       "      <td>0</td>\n",
       "      <td>0</td>\n",
       "      <td>...</td>\n",
       "      <td>0</td>\n",
       "      <td>0</td>\n",
       "      <td>0</td>\n",
       "      <td>0</td>\n",
       "      <td>0</td>\n",
       "      <td>1</td>\n",
       "      <td>0</td>\n",
       "      <td>0</td>\n",
       "      <td>0</td>\n",
       "      <td>0</td>\n",
       "    </tr>\n",
       "    <tr>\n",
       "      <th>3</th>\n",
       "      <td>27.83</td>\n",
       "      <td>1.540</td>\n",
       "      <td>3.75</td>\n",
       "      <td>5</td>\n",
       "      <td>100.0</td>\n",
       "      <td>3</td>\n",
       "      <td>1</td>\n",
       "      <td>1</td>\n",
       "      <td>0</td>\n",
       "      <td>0</td>\n",
       "      <td>...</td>\n",
       "      <td>0</td>\n",
       "      <td>0</td>\n",
       "      <td>0</td>\n",
       "      <td>1</td>\n",
       "      <td>0</td>\n",
       "      <td>1</td>\n",
       "      <td>1</td>\n",
       "      <td>1</td>\n",
       "      <td>0</td>\n",
       "      <td>0</td>\n",
       "    </tr>\n",
       "    <tr>\n",
       "      <th>4</th>\n",
       "      <td>20.17</td>\n",
       "      <td>5.625</td>\n",
       "      <td>1.71</td>\n",
       "      <td>0</td>\n",
       "      <td>120.0</td>\n",
       "      <td>0</td>\n",
       "      <td>1</td>\n",
       "      <td>1</td>\n",
       "      <td>0</td>\n",
       "      <td>0</td>\n",
       "      <td>...</td>\n",
       "      <td>0</td>\n",
       "      <td>0</td>\n",
       "      <td>0</td>\n",
       "      <td>1</td>\n",
       "      <td>0</td>\n",
       "      <td>1</td>\n",
       "      <td>0</td>\n",
       "      <td>0</td>\n",
       "      <td>0</td>\n",
       "      <td>1</td>\n",
       "    </tr>\n",
       "  </tbody>\n",
       "</table>\n",
       "<p>5 rows × 37 columns</p>\n",
       "</div>"
      ],
      "text/plain": [
       "      A2     A3    A8  A11    A14  A15  b  u  y  gg  ...  j  n  o  v  z  t  t  \\\n",
       "0  30.83  0.000  1.25    1  202.0    0  1  1  0   0  ...  0  0  0  1  0  1  1   \n",
       "1  58.67  4.460  3.04    6   43.0  560  0  1  0   0  ...  0  0  0  0  0  1  1   \n",
       "2  24.50  0.500  1.50    0  280.0  824  0  1  0   0  ...  0  0  0  0  0  1  0   \n",
       "3  27.83  1.540  3.75    5  100.0    3  1  1  0   0  ...  0  0  0  1  0  1  1   \n",
       "4  20.17  5.625  1.71    0  120.0    0  1  1  0   0  ...  0  0  0  1  0  1  0   \n",
       "\n",
       "   t  p  s  \n",
       "0  0  0  0  \n",
       "1  0  0  0  \n",
       "2  0  0  0  \n",
       "3  1  0  0  \n",
       "4  0  0  1  \n",
       "\n",
       "[5 rows x 37 columns]"
      ]
     },
     "execution_count": 357,
     "metadata": {},
     "output_type": "execute_result"
    }
   ],
   "source": [
    "feature.head()"
   ]
  },
  {
   "cell_type": "markdown",
   "id": "d7161169",
   "metadata": {},
   "source": [
    "# Now we are ready to model our data"
   ]
  },
  {
   "cell_type": "code",
   "execution_count": 360,
   "id": "b4b1bc48",
   "metadata": {},
   "outputs": [],
   "source": [
    "X = feature.copy().values\n",
    "y = target.copy().values"
   ]
  },
  {
   "cell_type": "code",
   "execution_count": 367,
   "id": "86609dd8",
   "metadata": {},
   "outputs": [],
   "source": [
    "from sklearn.tree import DecisionTreeClassifier\n",
    "from sklearn import tree\n",
    "from sklearn.model_selection import train_test_split"
   ]
  },
  {
   "cell_type": "code",
   "execution_count": 362,
   "id": "a4082c81",
   "metadata": {},
   "outputs": [],
   "source": [
    "dtree = DecisionTreeClassifier()"
   ]
  },
  {
   "cell_type": "code",
   "execution_count": 363,
   "id": "650af8e0",
   "metadata": {},
   "outputs": [],
   "source": [
    "X_train, X_test, y_train, y_test = train_test_split(X, y, test_size=0.3, random_state=42)"
   ]
  },
  {
   "cell_type": "code",
   "execution_count": 364,
   "id": "1b870ebe",
   "metadata": {},
   "outputs": [
    {
     "data": {
      "text/html": [
       "<style>#sk-container-id-1 {color: black;background-color: white;}#sk-container-id-1 pre{padding: 0;}#sk-container-id-1 div.sk-toggleable {background-color: white;}#sk-container-id-1 label.sk-toggleable__label {cursor: pointer;display: block;width: 100%;margin-bottom: 0;padding: 0.3em;box-sizing: border-box;text-align: center;}#sk-container-id-1 label.sk-toggleable__label-arrow:before {content: \"▸\";float: left;margin-right: 0.25em;color: #696969;}#sk-container-id-1 label.sk-toggleable__label-arrow:hover:before {color: black;}#sk-container-id-1 div.sk-estimator:hover label.sk-toggleable__label-arrow:before {color: black;}#sk-container-id-1 div.sk-toggleable__content {max-height: 0;max-width: 0;overflow: hidden;text-align: left;background-color: #f0f8ff;}#sk-container-id-1 div.sk-toggleable__content pre {margin: 0.2em;color: black;border-radius: 0.25em;background-color: #f0f8ff;}#sk-container-id-1 input.sk-toggleable__control:checked~div.sk-toggleable__content {max-height: 200px;max-width: 100%;overflow: auto;}#sk-container-id-1 input.sk-toggleable__control:checked~label.sk-toggleable__label-arrow:before {content: \"▾\";}#sk-container-id-1 div.sk-estimator input.sk-toggleable__control:checked~label.sk-toggleable__label {background-color: #d4ebff;}#sk-container-id-1 div.sk-label input.sk-toggleable__control:checked~label.sk-toggleable__label {background-color: #d4ebff;}#sk-container-id-1 input.sk-hidden--visually {border: 0;clip: rect(1px 1px 1px 1px);clip: rect(1px, 1px, 1px, 1px);height: 1px;margin: -1px;overflow: hidden;padding: 0;position: absolute;width: 1px;}#sk-container-id-1 div.sk-estimator {font-family: monospace;background-color: #f0f8ff;border: 1px dotted black;border-radius: 0.25em;box-sizing: border-box;margin-bottom: 0.5em;}#sk-container-id-1 div.sk-estimator:hover {background-color: #d4ebff;}#sk-container-id-1 div.sk-parallel-item::after {content: \"\";width: 100%;border-bottom: 1px solid gray;flex-grow: 1;}#sk-container-id-1 div.sk-label:hover label.sk-toggleable__label {background-color: #d4ebff;}#sk-container-id-1 div.sk-serial::before {content: \"\";position: absolute;border-left: 1px solid gray;box-sizing: border-box;top: 0;bottom: 0;left: 50%;z-index: 0;}#sk-container-id-1 div.sk-serial {display: flex;flex-direction: column;align-items: center;background-color: white;padding-right: 0.2em;padding-left: 0.2em;position: relative;}#sk-container-id-1 div.sk-item {position: relative;z-index: 1;}#sk-container-id-1 div.sk-parallel {display: flex;align-items: stretch;justify-content: center;background-color: white;position: relative;}#sk-container-id-1 div.sk-item::before, #sk-container-id-1 div.sk-parallel-item::before {content: \"\";position: absolute;border-left: 1px solid gray;box-sizing: border-box;top: 0;bottom: 0;left: 50%;z-index: -1;}#sk-container-id-1 div.sk-parallel-item {display: flex;flex-direction: column;z-index: 1;position: relative;background-color: white;}#sk-container-id-1 div.sk-parallel-item:first-child::after {align-self: flex-end;width: 50%;}#sk-container-id-1 div.sk-parallel-item:last-child::after {align-self: flex-start;width: 50%;}#sk-container-id-1 div.sk-parallel-item:only-child::after {width: 0;}#sk-container-id-1 div.sk-dashed-wrapped {border: 1px dashed gray;margin: 0 0.4em 0.5em 0.4em;box-sizing: border-box;padding-bottom: 0.4em;background-color: white;}#sk-container-id-1 div.sk-label label {font-family: monospace;font-weight: bold;display: inline-block;line-height: 1.2em;}#sk-container-id-1 div.sk-label-container {text-align: center;}#sk-container-id-1 div.sk-container {/* jupyter's `normalize.less` sets `[hidden] { display: none; }` but bootstrap.min.css set `[hidden] { display: none !important; }` so we also need the `!important` here to be able to override the default hidden behavior on the sphinx rendered scikit-learn.org. See: https://github.com/scikit-learn/scikit-learn/issues/21755 */display: inline-block !important;position: relative;}#sk-container-id-1 div.sk-text-repr-fallback {display: none;}</style><div id=\"sk-container-id-1\" class=\"sk-top-container\"><div class=\"sk-text-repr-fallback\"><pre>DecisionTreeClassifier()</pre><b>In a Jupyter environment, please rerun this cell to show the HTML representation or trust the notebook. <br />On GitHub, the HTML representation is unable to render, please try loading this page with nbviewer.org.</b></div><div class=\"sk-container\" hidden><div class=\"sk-item\"><div class=\"sk-estimator sk-toggleable\"><input class=\"sk-toggleable__control sk-hidden--visually\" id=\"sk-estimator-id-1\" type=\"checkbox\" checked><label for=\"sk-estimator-id-1\" class=\"sk-toggleable__label sk-toggleable__label-arrow\">DecisionTreeClassifier</label><div class=\"sk-toggleable__content\"><pre>DecisionTreeClassifier()</pre></div></div></div></div></div>"
      ],
      "text/plain": [
       "DecisionTreeClassifier()"
      ]
     },
     "execution_count": 364,
     "metadata": {},
     "output_type": "execute_result"
    }
   ],
   "source": [
    "dtree.fit(X_train,y_train)"
   ]
  },
  {
   "cell_type": "code",
   "execution_count": 372,
   "id": "2f5f9ac9",
   "metadata": {},
   "outputs": [
    {
     "name": "stdout",
     "output_type": "stream",
     "text": [
      "Single Decision Tree Train Score: 1.0\n",
      "Single Decision Tree Test Score: 0.8267326732673267\n"
     ]
    }
   ],
   "source": [
    "print('Single Decision Tree Train Score:',dtree.score(X_train,y_train))\n",
    "print('Single Decision Tree Test Score:',dtree.score(X_test,y_test))"
   ]
  },
  {
   "cell_type": "markdown",
   "id": "8353612f",
   "metadata": {},
   "source": [
    "### Random Forest Classifier"
   ]
  },
  {
   "cell_type": "code",
   "execution_count": 393,
   "id": "3f63e011",
   "metadata": {},
   "outputs": [],
   "source": [
    "from sklearn.ensemble import RandomForestClassifier\n",
    "from sklearn.model_selection import GridSearchCV\n",
    "from sklearn.model_selection import cross_val_score"
   ]
  },
  {
   "cell_type": "code",
   "execution_count": 374,
   "id": "82c097d2",
   "metadata": {},
   "outputs": [],
   "source": [
    "rfc = RandomForestClassifier()"
   ]
  },
  {
   "cell_type": "code",
   "execution_count": 381,
   "id": "7a7f1b55",
   "metadata": {},
   "outputs": [],
   "source": [
    "param_grid = dict(n_estimators=[1,100,500],min_samples_split=[i for i in range(4,10)],\n",
    "                max_depth=[i for i in range(4,10)])"
   ]
  },
  {
   "cell_type": "code",
   "execution_count": 382,
   "id": "36594dce",
   "metadata": {},
   "outputs": [],
   "source": [
    "grid = GridSearchCV(rfc,param_grid,scoring='accuracy',cv=5)"
   ]
  },
  {
   "cell_type": "code",
   "execution_count": 383,
   "id": "8c5910a1",
   "metadata": {},
   "outputs": [
    {
     "data": {
      "text/html": [
       "<style>#sk-container-id-2 {color: black;background-color: white;}#sk-container-id-2 pre{padding: 0;}#sk-container-id-2 div.sk-toggleable {background-color: white;}#sk-container-id-2 label.sk-toggleable__label {cursor: pointer;display: block;width: 100%;margin-bottom: 0;padding: 0.3em;box-sizing: border-box;text-align: center;}#sk-container-id-2 label.sk-toggleable__label-arrow:before {content: \"▸\";float: left;margin-right: 0.25em;color: #696969;}#sk-container-id-2 label.sk-toggleable__label-arrow:hover:before {color: black;}#sk-container-id-2 div.sk-estimator:hover label.sk-toggleable__label-arrow:before {color: black;}#sk-container-id-2 div.sk-toggleable__content {max-height: 0;max-width: 0;overflow: hidden;text-align: left;background-color: #f0f8ff;}#sk-container-id-2 div.sk-toggleable__content pre {margin: 0.2em;color: black;border-radius: 0.25em;background-color: #f0f8ff;}#sk-container-id-2 input.sk-toggleable__control:checked~div.sk-toggleable__content {max-height: 200px;max-width: 100%;overflow: auto;}#sk-container-id-2 input.sk-toggleable__control:checked~label.sk-toggleable__label-arrow:before {content: \"▾\";}#sk-container-id-2 div.sk-estimator input.sk-toggleable__control:checked~label.sk-toggleable__label {background-color: #d4ebff;}#sk-container-id-2 div.sk-label input.sk-toggleable__control:checked~label.sk-toggleable__label {background-color: #d4ebff;}#sk-container-id-2 input.sk-hidden--visually {border: 0;clip: rect(1px 1px 1px 1px);clip: rect(1px, 1px, 1px, 1px);height: 1px;margin: -1px;overflow: hidden;padding: 0;position: absolute;width: 1px;}#sk-container-id-2 div.sk-estimator {font-family: monospace;background-color: #f0f8ff;border: 1px dotted black;border-radius: 0.25em;box-sizing: border-box;margin-bottom: 0.5em;}#sk-container-id-2 div.sk-estimator:hover {background-color: #d4ebff;}#sk-container-id-2 div.sk-parallel-item::after {content: \"\";width: 100%;border-bottom: 1px solid gray;flex-grow: 1;}#sk-container-id-2 div.sk-label:hover label.sk-toggleable__label {background-color: #d4ebff;}#sk-container-id-2 div.sk-serial::before {content: \"\";position: absolute;border-left: 1px solid gray;box-sizing: border-box;top: 0;bottom: 0;left: 50%;z-index: 0;}#sk-container-id-2 div.sk-serial {display: flex;flex-direction: column;align-items: center;background-color: white;padding-right: 0.2em;padding-left: 0.2em;position: relative;}#sk-container-id-2 div.sk-item {position: relative;z-index: 1;}#sk-container-id-2 div.sk-parallel {display: flex;align-items: stretch;justify-content: center;background-color: white;position: relative;}#sk-container-id-2 div.sk-item::before, #sk-container-id-2 div.sk-parallel-item::before {content: \"\";position: absolute;border-left: 1px solid gray;box-sizing: border-box;top: 0;bottom: 0;left: 50%;z-index: -1;}#sk-container-id-2 div.sk-parallel-item {display: flex;flex-direction: column;z-index: 1;position: relative;background-color: white;}#sk-container-id-2 div.sk-parallel-item:first-child::after {align-self: flex-end;width: 50%;}#sk-container-id-2 div.sk-parallel-item:last-child::after {align-self: flex-start;width: 50%;}#sk-container-id-2 div.sk-parallel-item:only-child::after {width: 0;}#sk-container-id-2 div.sk-dashed-wrapped {border: 1px dashed gray;margin: 0 0.4em 0.5em 0.4em;box-sizing: border-box;padding-bottom: 0.4em;background-color: white;}#sk-container-id-2 div.sk-label label {font-family: monospace;font-weight: bold;display: inline-block;line-height: 1.2em;}#sk-container-id-2 div.sk-label-container {text-align: center;}#sk-container-id-2 div.sk-container {/* jupyter's `normalize.less` sets `[hidden] { display: none; }` but bootstrap.min.css set `[hidden] { display: none !important; }` so we also need the `!important` here to be able to override the default hidden behavior on the sphinx rendered scikit-learn.org. See: https://github.com/scikit-learn/scikit-learn/issues/21755 */display: inline-block !important;position: relative;}#sk-container-id-2 div.sk-text-repr-fallback {display: none;}</style><div id=\"sk-container-id-2\" class=\"sk-top-container\"><div class=\"sk-text-repr-fallback\"><pre>GridSearchCV(cv=5, estimator=RandomForestClassifier(),\n",
       "             param_grid={&#x27;max_depth&#x27;: [4, 5, 6, 7, 8, 9],\n",
       "                         &#x27;min_samples_split&#x27;: [4, 5, 6, 7, 8, 9],\n",
       "                         &#x27;n_estimators&#x27;: [1, 100, 500]},\n",
       "             scoring=&#x27;accuracy&#x27;)</pre><b>In a Jupyter environment, please rerun this cell to show the HTML representation or trust the notebook. <br />On GitHub, the HTML representation is unable to render, please try loading this page with nbviewer.org.</b></div><div class=\"sk-container\" hidden><div class=\"sk-item sk-dashed-wrapped\"><div class=\"sk-label-container\"><div class=\"sk-label sk-toggleable\"><input class=\"sk-toggleable__control sk-hidden--visually\" id=\"sk-estimator-id-2\" type=\"checkbox\" ><label for=\"sk-estimator-id-2\" class=\"sk-toggleable__label sk-toggleable__label-arrow\">GridSearchCV</label><div class=\"sk-toggleable__content\"><pre>GridSearchCV(cv=5, estimator=RandomForestClassifier(),\n",
       "             param_grid={&#x27;max_depth&#x27;: [4, 5, 6, 7, 8, 9],\n",
       "                         &#x27;min_samples_split&#x27;: [4, 5, 6, 7, 8, 9],\n",
       "                         &#x27;n_estimators&#x27;: [1, 100, 500]},\n",
       "             scoring=&#x27;accuracy&#x27;)</pre></div></div></div><div class=\"sk-parallel\"><div class=\"sk-parallel-item\"><div class=\"sk-item\"><div class=\"sk-label-container\"><div class=\"sk-label sk-toggleable\"><input class=\"sk-toggleable__control sk-hidden--visually\" id=\"sk-estimator-id-3\" type=\"checkbox\" ><label for=\"sk-estimator-id-3\" class=\"sk-toggleable__label sk-toggleable__label-arrow\">estimator: RandomForestClassifier</label><div class=\"sk-toggleable__content\"><pre>RandomForestClassifier()</pre></div></div></div><div class=\"sk-serial\"><div class=\"sk-item\"><div class=\"sk-estimator sk-toggleable\"><input class=\"sk-toggleable__control sk-hidden--visually\" id=\"sk-estimator-id-4\" type=\"checkbox\" ><label for=\"sk-estimator-id-4\" class=\"sk-toggleable__label sk-toggleable__label-arrow\">RandomForestClassifier</label><div class=\"sk-toggleable__content\"><pre>RandomForestClassifier()</pre></div></div></div></div></div></div></div></div></div></div>"
      ],
      "text/plain": [
       "GridSearchCV(cv=5, estimator=RandomForestClassifier(),\n",
       "             param_grid={'max_depth': [4, 5, 6, 7, 8, 9],\n",
       "                         'min_samples_split': [4, 5, 6, 7, 8, 9],\n",
       "                         'n_estimators': [1, 100, 500]},\n",
       "             scoring='accuracy')"
      ]
     },
     "execution_count": 383,
     "metadata": {},
     "output_type": "execute_result"
    }
   ],
   "source": [
    "grid.fit(X,y)"
   ]
  },
  {
   "cell_type": "code",
   "execution_count": 387,
   "id": "0c12a1f9",
   "metadata": {},
   "outputs": [
    {
     "name": "stdout",
     "output_type": "stream",
     "text": [
      "Best Hyperparameters: {'max_depth': 5, 'min_samples_split': 4, 'n_estimators': 100}\n",
      "Best Score: 0.8690768380320619\n"
     ]
    }
   ],
   "source": [
    "print('Best Hyperparameters:',grid.best_params_)\n",
    "print('Best Score:',grid.best_score_)"
   ]
  },
  {
   "cell_type": "code",
   "execution_count": 390,
   "id": "25a5f48a",
   "metadata": {},
   "outputs": [],
   "source": [
    "results = pd.DataFrame(grid.cv_results_)[['param_n_estimators','param_max_depth',\n",
    "                                         'param_min_samples_split','mean_test_score','rank_test_score']]"
   ]
  },
  {
   "cell_type": "code",
   "execution_count": 391,
   "id": "f4ad7af3",
   "metadata": {},
   "outputs": [
    {
     "data": {
      "text/html": [
       "<div>\n",
       "<style scoped>\n",
       "    .dataframe tbody tr th:only-of-type {\n",
       "        vertical-align: middle;\n",
       "    }\n",
       "\n",
       "    .dataframe tbody tr th {\n",
       "        vertical-align: top;\n",
       "    }\n",
       "\n",
       "    .dataframe thead th {\n",
       "        text-align: right;\n",
       "    }\n",
       "</style>\n",
       "<table border=\"1\" class=\"dataframe\">\n",
       "  <thead>\n",
       "    <tr style=\"text-align: right;\">\n",
       "      <th></th>\n",
       "      <th>param_n_estimators</th>\n",
       "      <th>param_max_depth</th>\n",
       "      <th>param_min_samples_split</th>\n",
       "      <th>mean_test_score</th>\n",
       "      <th>rank_test_score</th>\n",
       "    </tr>\n",
       "  </thead>\n",
       "  <tbody>\n",
       "    <tr>\n",
       "      <th>19</th>\n",
       "      <td>100</td>\n",
       "      <td>5</td>\n",
       "      <td>4</td>\n",
       "      <td>0.869077</td>\n",
       "      <td>1</td>\n",
       "    </tr>\n",
       "  </tbody>\n",
       "</table>\n",
       "</div>"
      ],
      "text/plain": [
       "   param_n_estimators param_max_depth param_min_samples_split  \\\n",
       "19                100               5                       4   \n",
       "\n",
       "    mean_test_score  rank_test_score  \n",
       "19         0.869077                1  "
      ]
     },
     "execution_count": 391,
     "metadata": {},
     "output_type": "execute_result"
    }
   ],
   "source": [
    "results[results['rank_test_score']==1]"
   ]
  },
  {
   "cell_type": "markdown",
   "id": "6742245f",
   "metadata": {},
   "source": [
    "We found the best parameter."
   ]
  },
  {
   "cell_type": "code",
   "execution_count": 392,
   "id": "0b1d2502",
   "metadata": {},
   "outputs": [],
   "source": [
    "rfc = RandomForestClassifier(n_estimators=100,max_depth=5,min_samples_split=4)"
   ]
  },
  {
   "cell_type": "code",
   "execution_count": 396,
   "id": "6ac73c97",
   "metadata": {},
   "outputs": [],
   "source": [
    "train_score, test_score = do_Kfold(rfc,X,y,k=10)"
   ]
  },
  {
   "cell_type": "code",
   "execution_count": 405,
   "id": "c1dd8263",
   "metadata": {},
   "outputs": [
    {
     "data": {
      "image/png": "[encoded data removed]",
      "text/plain": [
       "<Figure size 640x480 with 1 Axes>"
      ]
     },
     "metadata": {},
     "output_type": "display_data"
    }
   ],
   "source": [
    "plt.plot(train_score,'-xk',label='Train')\n",
    "plt.plot(test_score,'-xr',label='Test')\n",
    "plt.legend()\n",
    "plt.show()"
   ]
  },
  {
   "cell_type": "code",
   "execution_count": 402,
   "id": "2872f307",
   "metadata": {},
   "outputs": [
    {
     "name": "stdout",
     "output_type": "stream",
     "text": [
      "Average Train Score w/ Optimal Hyperparameters: 0.9133960440622495\n",
      "Average Test Score w/ Optimal Hyperparameters: 0.865891132572432\n"
     ]
    }
   ],
   "source": [
    "print('Average Train Score w/ Optimal Hyperparameters:',np.mean(train_score))\n",
    "print('Average Test Score w/ Optimal Hyperparameters:',np.mean(test_score))"
   ]
  },
  {
   "cell_type": "markdown",
   "id": "597d6510",
   "metadata": {},
   "source": [
    "### Logistic Regression"
   ]
  },
  {
   "cell_type": "code",
   "execution_count": 407,
   "id": "c146d27d",
   "metadata": {},
   "outputs": [],
   "source": [
    "from sklearn.linear_model import LogisticRegression\n",
    "from sklearn.preprocessing import StandardScaler"
   ]
  },
  {
   "cell_type": "code",
   "execution_count": 410,
   "id": "ba5b5b69",
   "metadata": {},
   "outputs": [],
   "source": [
    "scaler = StandardScaler()"
   ]
  },
  {
   "cell_type": "code",
   "execution_count": 411,
   "id": "cc98c37d",
   "metadata": {},
   "outputs": [],
   "source": [
    "log_reg = LogisticRegression()"
   ]
  },
  {
   "cell_type": "code",
   "execution_count": 412,
   "id": "1d309417",
   "metadata": {},
   "outputs": [],
   "source": [
    "train_score, test_score = do_Kfold(log_reg,X,y,k=10,scaler=scaler)"
   ]
  },
  {
   "cell_type": "code",
   "execution_count": 413,
   "id": "5e5af731",
   "metadata": {},
   "outputs": [
    {
     "data": {
      "image/png": "[encoded data removed]",
      "text/plain": [
       "<Figure size 640x480 with 1 Axes>"
      ]
     },
     "metadata": {},
     "output_type": "display_data"
    }
   ],
   "source": [
    "plt.plot(train_score,'-xk',label='Train')\n",
    "plt.plot(test_score,'-xr',label='Test')\n",
    "plt.legend()\n",
    "plt.show()"
   ]
  },
  {
   "cell_type": "code",
   "execution_count": 414,
   "id": "12b4e5cb",
   "metadata": {},
   "outputs": [
    {
     "name": "stdout",
     "output_type": "stream",
     "text": [
      "Average Train Score w/ Optimal Hyperparameters: 0.890710630072595\n",
      "Average Test Score w/ Optimal Hyperparameters: 0.8673617208077262\n"
     ]
    }
   ],
   "source": [
    "print('Average Train Score w/ Optimal Hyperparameters:',np.mean(train_score))\n",
    "print('Average Test Score w/ Optimal Hyperparameters:',np.mean(test_score))"
   ]
  },
  {
   "cell_type": "markdown",
   "id": "d4127dd1",
   "metadata": {},
   "source": [
    "### KNN"
   ]
  },
  {
   "cell_type": "code",
   "execution_count": 415,
   "id": "ac80424b",
   "metadata": {},
   "outputs": [],
   "source": [
    "from sklearn.neighbors import KNeighborsClassifier"
   ]
  },
  {
   "cell_type": "code",
   "execution_count": 428,
   "id": "2d29066c",
   "metadata": {},
   "outputs": [],
   "source": [
    "neighbor_range = range(100,200)\n",
    "k = 5\n",
    "train = []\n",
    "test = []\n",
    "\n",
    "for i in neighbor_range:\n",
    "    knn = KNeighborsClassifier(n_neighbors=i)\n",
    "    train_score, test_score = do_Kfold(knn,X,y,k,scaler=scaler)\n",
    "    train.append(np.mean(train_score))\n",
    "    test.append(np.mean(test_score))"
   ]
  },
  {
   "cell_type": "code",
   "execution_count": 434,
   "id": "449f2038",
   "metadata": {},
   "outputs": [
    {
     "data": {
      "image/png": "[encoded data removed]",
      "text/plain": [
       "<Figure size 640x480 with 1 Axes>"
      ]
     },
     "metadata": {},
     "output_type": "display_data"
    }
   ],
   "source": [
    "plt.plot(train,'-xk',label='Train')\n",
    "plt.plot(test,'-xr',label='Test')\n",
    "plt.legend()\n",
    "plt.show()"
   ]
  },
  {
   "cell_type": "code",
   "execution_count": 432,
   "id": "7689499d",
   "metadata": {},
   "outputs": [
    {
     "name": "stdout",
     "output_type": "stream",
     "text": [
      "Maximum Test Score: 0.8360641238253178\n",
      "Number of neighbors: 161\n"
     ]
    }
   ],
   "source": [
    "print('Maximum Test Score:',np.max(test))\n",
    "print('Number of neighbors:',np.argmax(test)+100)"
   ]
  },
  {
   "cell_type": "code",
   "execution_count": 435,
   "id": "44442103",
   "metadata": {},
   "outputs": [],
   "source": [
    "knn = KNeighborsClassifier(n_neighbors=161)\n",
    "train, test = do_Kfold(knn,X,y,k=10,scaler=scaler)"
   ]
  },
  {
   "cell_type": "code",
   "execution_count": 436,
   "id": "169877d9",
   "metadata": {},
   "outputs": [
    {
     "name": "stdout",
     "output_type": "stream",
     "text": [
      "Average Train Score w/ n_neighbors = 161: 0.8226530152768168\n",
      "Average Test Score w/ n_neighbors = 161: 0.8331650570676032\n"
     ]
    }
   ],
   "source": [
    "print('Average Train Score w/ n_neighbors = 161:',np.mean(train))\n",
    "print('Average Test Score w/ n_neighbors = 161:',np.mean(test))"
   ]
  },
  {
   "cell_type": "markdown",
   "id": "59e82fd7",
   "metadata": {},
   "source": [
    "### Naive-Bayes"
   ]
  },
  {
   "cell_type": "code",
   "execution_count": 729,
   "id": "4c7919c8",
   "metadata": {},
   "outputs": [],
   "source": [
    "from sklearn.naive_bayes import MultinomialNB"
   ]
  },
  {
   "cell_type": "code",
   "execution_count": 730,
   "id": "0ed46477",
   "metadata": {},
   "outputs": [],
   "source": [
    "mnb = MultinomialNB()"
   ]
  },
  {
   "cell_type": "code",
   "execution_count": 731,
   "id": "35124fa6",
   "metadata": {},
   "outputs": [],
   "source": [
    "train, test = do_Kfold(mnb,X,y,k=10)"
   ]
  },
  {
   "cell_type": "code",
   "execution_count": 732,
   "id": "1aac2533",
   "metadata": {},
   "outputs": [
    {
     "name": "stdout",
     "output_type": "stream",
     "text": [
      "Average Train Score: 0.6749461851888461\n",
      "Average Test Score: 0.6766022827041265\n"
     ]
    }
   ],
   "source": [
    "print('Average Train Score:',np.mean(train))\n",
    "print('Average Test Score:',np.mean(test))"
   ]
  },
  {
   "cell_type": "markdown",
   "id": "55aeb79f",
   "metadata": {},
   "source": [
    "Produces bad accuracy because the features are not independent(?)"
   ]
  },
  {
   "cell_type": "markdown",
   "id": "e57a43a9",
   "metadata": {},
   "source": [
    "### Linear SVM"
   ]
  },
  {
   "cell_type": "code",
   "execution_count": 474,
   "id": "a1af6f41",
   "metadata": {},
   "outputs": [],
   "source": [
    "from sklearn.svm import LinearSVC"
   ]
  },
  {
   "cell_type": "code",
   "execution_count": 479,
   "id": "961ac18b",
   "metadata": {},
   "outputs": [],
   "source": [
    "C = [1,0.1,0.01,0.001,0.0001,0.00001]\n",
    "\n",
    "train_avg = []\n",
    "test_avg = []\n",
    "\n",
    "for i in C:\n",
    "    svm = LinearSVC(max_iter = 10000, C = i)\n",
    "    train, test = do_Kfold(svm,X,y,k=10,scaler=scaler)\n",
    "    train_avg.append(np.mean(train))\n",
    "    test_avg.append(np.mean(test))"
   ]
  },
  {
   "cell_type": "code",
   "execution_count": 480,
   "id": "9495d1f1",
   "metadata": {},
   "outputs": [
    {
     "data": {
      "image/png": "[encoded data removed]",
      "text/plain": [
       "<Figure size 640x480 with 1 Axes>"
      ]
     },
     "metadata": {},
     "output_type": "display_data"
    }
   ],
   "source": [
    "plt.plot(train_avg,'-xk',label='Train')\n",
    "plt.plot(test_avg,'-xr',label='Test')\n",
    "plt.legend()\n",
    "plt.show()"
   ]
  },
  {
   "cell_type": "markdown",
   "id": "80eaf204",
   "metadata": {},
   "source": [
    "We see the best result at C = 0.001"
   ]
  },
  {
   "cell_type": "code",
   "execution_count": 485,
   "id": "5a868652",
   "metadata": {},
   "outputs": [],
   "source": [
    "svm = LinearSVC(max_iter = 10000, C = 0.001)\n",
    "train, test = do_Kfold(svm,X,y,k=10,scaler=scaler)"
   ]
  },
  {
   "cell_type": "code",
   "execution_count": 486,
   "id": "a1e5da70",
   "metadata": {},
   "outputs": [
    {
     "name": "stdout",
     "output_type": "stream",
     "text": [
      "Average Train Score: 0.8837567131231261\n",
      "Average Test Score: 0.8733757682177348\n"
     ]
    }
   ],
   "source": [
    "print('Average Train Score:',np.mean(train))\n",
    "print('Average Test Score:',np.mean(test))"
   ]
  },
  {
   "cell_type": "markdown",
   "id": "9fd1d5a3",
   "metadata": {},
   "source": [
    "### Neural Network"
   ]
  },
  {
   "cell_type": "code",
   "execution_count": 708,
   "id": "86517a8e",
   "metadata": {},
   "outputs": [],
   "source": [
    "import tensorflow as tf\n",
    "from tensorflow.keras.models import Sequential\n",
    "from tensorflow.keras.layers import Dense, Dropout\n",
    "from tensorflow.keras.callbacks import EarlyStopping"
   ]
  },
  {
   "cell_type": "code",
   "execution_count": 709,
   "id": "0f3c4449",
   "metadata": {},
   "outputs": [],
   "source": [
    "X_train, X_test, y_train, y_test = train_test_split(X, y, test_size=0.3, random_state=146)"
   ]
  },
  {
   "cell_type": "code",
   "execution_count": 710,
   "id": "52d221b2",
   "metadata": {},
   "outputs": [],
   "source": [
    "from sklearn.preprocessing import MinMaxScaler"
   ]
  },
  {
   "cell_type": "code",
   "execution_count": 711,
   "id": "80529fd8",
   "metadata": {},
   "outputs": [],
   "source": [
    "mms = MinMaxScaler()"
   ]
  },
  {
   "cell_type": "code",
   "execution_count": 712,
   "id": "21027e4d",
   "metadata": {},
   "outputs": [],
   "source": [
    "X_train = mms.fit_transform(X_train)\n",
    "X_test = mms.transform(X_test)"
   ]
  },
  {
   "cell_type": "code",
   "execution_count": 713,
   "id": "83708fe1",
   "metadata": {},
   "outputs": [],
   "source": [
    "early_stopping = EarlyStopping(monitor='val_loss',patience=25,mode='min',verbose=1)"
   ]
  },
  {
   "cell_type": "code",
   "execution_count": 714,
   "id": "7d4527e0",
   "metadata": {},
   "outputs": [],
   "source": [
    "model = Sequential()\n",
    "\n",
    "model.add(Dense(20,activation='relu'))\n",
    "model.add(Dropout(0.5))\n",
    "\n",
    "model.add(Dense(10,activation='relu'))\n",
    "model.add(Dropout(0.5))\n",
    "\n",
    "model.add(Dense(10,activation='relu'))\n",
    "model.add(Dropout(0.5))\n",
    "\n",
    "model.add(Dense(1,activation='sigmoid'))\n",
    "\n",
    "model.compile(loss='binary_crossentropy',optimizer='adam',metrics='accuracy')"
   ]
  },
  {
   "cell_type": "code",
   "execution_count": 715,
   "id": "c8998e55",
   "metadata": {
    "scrolled": true
   },
   "outputs": [
    {
     "name": "stdout",
     "output_type": "stream",
     "text": [
      "Epoch 1/300\n",
      "2/2 [==============================] - 0s 59ms/step - loss: 0.7744 - accuracy: 0.4925 - val_loss: 0.7037 - val_accuracy: 0.4208\n",
      "Epoch 2/300\n",
      "2/2 [==============================] - 0s 11ms/step - loss: 0.7451 - accuracy: 0.5011 - val_loss: 0.7001 - val_accuracy: 0.4208\n",
      "Epoch 3/300\n",
      "2/2 [==============================] - 0s 12ms/step - loss: 0.7190 - accuracy: 0.5458 - val_loss: 0.6967 - val_accuracy: 0.4257\n",
      "Epoch 4/300\n",
      "2/2 [==============================] - 0s 14ms/step - loss: 0.7336 - accuracy: 0.5075 - val_loss: 0.6937 - val_accuracy: 0.4307\n",
      "Epoch 5/300\n",
      "2/2 [==============================] - 0s 13ms/step - loss: 0.7420 - accuracy: 0.4648 - val_loss: 0.6909 - val_accuracy: 0.4356\n",
      "Epoch 6/300\n",
      "2/2 [==============================] - 0s 13ms/step - loss: 0.7195 - accuracy: 0.5245 - val_loss: 0.6885 - val_accuracy: 0.4802\n",
      "Epoch 7/300\n",
      "2/2 [==============================] - 0s 13ms/step - loss: 0.7252 - accuracy: 0.5267 - val_loss: 0.6863 - val_accuracy: 0.4802\n",
      "Epoch 8/300\n",
      "2/2 [==============================] - 0s 13ms/step - loss: 0.6901 - accuracy: 0.5437 - val_loss: 0.6841 - val_accuracy: 0.5099\n",
      "Epoch 9/300\n",
      "2/2 [==============================] - 0s 13ms/step - loss: 0.6974 - accuracy: 0.5501 - val_loss: 0.6823 - val_accuracy: 0.5495\n",
      "Epoch 10/300\n",
      "2/2 [==============================] - 0s 13ms/step - loss: 0.7023 - accuracy: 0.5203 - val_loss: 0.6805 - val_accuracy: 0.5842\n",
      "Epoch 11/300\n",
      "2/2 [==============================] - 0s 13ms/step - loss: 0.7105 - accuracy: 0.5160 - val_loss: 0.6789 - val_accuracy: 0.5941\n",
      "Epoch 12/300\n",
      "2/2 [==============================] - 0s 13ms/step - loss: 0.7012 - accuracy: 0.5309 - val_loss: 0.6774 - val_accuracy: 0.6337\n",
      "Epoch 13/300\n",
      "2/2 [==============================] - 0s 13ms/step - loss: 0.7184 - accuracy: 0.4947 - val_loss: 0.6758 - val_accuracy: 0.6832\n",
      "Epoch 14/300\n",
      "2/2 [==============================] - 0s 12ms/step - loss: 0.7081 - accuracy: 0.5053 - val_loss: 0.6744 - val_accuracy: 0.6881\n",
      "Epoch 15/300\n",
      "2/2 [==============================] - 0s 12ms/step - loss: 0.6929 - accuracy: 0.5267 - val_loss: 0.6733 - val_accuracy: 0.7030\n",
      "Epoch 16/300\n",
      "2/2 [==============================] - 0s 12ms/step - loss: 0.6781 - accuracy: 0.5885 - val_loss: 0.6723 - val_accuracy: 0.7129\n",
      "Epoch 17/300\n",
      "2/2 [==============================] - 0s 12ms/step - loss: 0.6873 - accuracy: 0.5544 - val_loss: 0.6713 - val_accuracy: 0.7228\n",
      "Epoch 18/300\n",
      "2/2 [==============================] - 0s 12ms/step - loss: 0.6938 - accuracy: 0.5394 - val_loss: 0.6704 - val_accuracy: 0.7475\n",
      "Epoch 19/300\n",
      "2/2 [==============================] - 0s 13ms/step - loss: 0.6794 - accuracy: 0.5693 - val_loss: 0.6694 - val_accuracy: 0.7475\n",
      "Epoch 20/300\n",
      "2/2 [==============================] - 0s 12ms/step - loss: 0.6778 - accuracy: 0.5672 - val_loss: 0.6684 - val_accuracy: 0.7475\n",
      "Epoch 21/300\n",
      "2/2 [==============================] - 0s 14ms/step - loss: 0.6905 - accuracy: 0.5714 - val_loss: 0.6671 - val_accuracy: 0.7525\n",
      "Epoch 22/300\n",
      "2/2 [==============================] - 0s 13ms/step - loss: 0.6784 - accuracy: 0.5437 - val_loss: 0.6655 - val_accuracy: 0.7574\n",
      "Epoch 23/300\n",
      "2/2 [==============================] - 0s 13ms/step - loss: 0.6728 - accuracy: 0.5885 - val_loss: 0.6638 - val_accuracy: 0.7574\n",
      "Epoch 24/300\n",
      "2/2 [==============================] - 0s 13ms/step - loss: 0.6865 - accuracy: 0.5608 - val_loss: 0.6619 - val_accuracy: 0.7574\n",
      "Epoch 25/300\n",
      "2/2 [==============================] - 0s 13ms/step - loss: 0.6987 - accuracy: 0.5629 - val_loss: 0.6604 - val_accuracy: 0.7624\n",
      "Epoch 26/300\n",
      "2/2 [==============================] - 0s 12ms/step - loss: 0.6776 - accuracy: 0.5885 - val_loss: 0.6587 - val_accuracy: 0.7673\n",
      "Epoch 27/300\n",
      "2/2 [==============================] - 0s 12ms/step - loss: 0.6814 - accuracy: 0.6098 - val_loss: 0.6570 - val_accuracy: 0.7871\n",
      "Epoch 28/300\n",
      "2/2 [==============================] - 0s 13ms/step - loss: 0.6656 - accuracy: 0.6162 - val_loss: 0.6552 - val_accuracy: 0.7921\n",
      "Epoch 29/300\n",
      "2/2 [==============================] - 0s 14ms/step - loss: 0.6601 - accuracy: 0.6226 - val_loss: 0.6534 - val_accuracy: 0.7921\n",
      "Epoch 30/300\n",
      "2/2 [==============================] - 0s 12ms/step - loss: 0.6958 - accuracy: 0.5821 - val_loss: 0.6519 - val_accuracy: 0.7970\n",
      "Epoch 31/300\n",
      "2/2 [==============================] - 0s 15ms/step - loss: 0.6729 - accuracy: 0.5949 - val_loss: 0.6504 - val_accuracy: 0.7970\n",
      "Epoch 32/300\n",
      "2/2 [==============================] - 0s 13ms/step - loss: 0.6713 - accuracy: 0.5864 - val_loss: 0.6491 - val_accuracy: 0.7970\n",
      "Epoch 33/300\n",
      "2/2 [==============================] - 0s 13ms/step - loss: 0.6788 - accuracy: 0.5778 - val_loss: 0.6477 - val_accuracy: 0.8020\n",
      "Epoch 34/300\n",
      "2/2 [==============================] - 0s 13ms/step - loss: 0.6778 - accuracy: 0.5906 - val_loss: 0.6465 - val_accuracy: 0.8069\n",
      "Epoch 35/300\n",
      "2/2 [==============================] - 0s 14ms/step - loss: 0.6736 - accuracy: 0.5714 - val_loss: 0.6451 - val_accuracy: 0.8069\n",
      "Epoch 36/300\n",
      "2/2 [==============================] - 0s 13ms/step - loss: 0.6721 - accuracy: 0.6077 - val_loss: 0.6437 - val_accuracy: 0.8119\n",
      "Epoch 37/300\n",
      "2/2 [==============================] - 0s 13ms/step - loss: 0.6712 - accuracy: 0.6034 - val_loss: 0.6422 - val_accuracy: 0.8168\n",
      "Epoch 38/300\n",
      "2/2 [==============================] - 0s 13ms/step - loss: 0.6688 - accuracy: 0.6183 - val_loss: 0.6405 - val_accuracy: 0.8168\n",
      "Epoch 39/300\n",
      "2/2 [==============================] - 0s 12ms/step - loss: 0.6494 - accuracy: 0.6247 - val_loss: 0.6387 - val_accuracy: 0.8218\n",
      "Epoch 40/300\n",
      "2/2 [==============================] - 0s 13ms/step - loss: 0.6647 - accuracy: 0.6269 - val_loss: 0.6369 - val_accuracy: 0.8168\n",
      "Epoch 41/300\n",
      "2/2 [==============================] - 0s 12ms/step - loss: 0.6668 - accuracy: 0.6162 - val_loss: 0.6351 - val_accuracy: 0.8218\n",
      "Epoch 42/300\n",
      "2/2 [==============================] - 0s 11ms/step - loss: 0.6697 - accuracy: 0.5821 - val_loss: 0.6335 - val_accuracy: 0.8119\n",
      "Epoch 43/300\n",
      "2/2 [==============================] - 0s 12ms/step - loss: 0.6462 - accuracy: 0.6695 - val_loss: 0.6318 - val_accuracy: 0.8218\n",
      "Epoch 44/300\n",
      "2/2 [==============================] - 0s 11ms/step - loss: 0.6459 - accuracy: 0.6226 - val_loss: 0.6300 - val_accuracy: 0.8218\n",
      "Epoch 45/300\n",
      "2/2 [==============================] - 0s 11ms/step - loss: 0.6651 - accuracy: 0.6205 - val_loss: 0.6282 - val_accuracy: 0.8267\n",
      "Epoch 46/300\n",
      "2/2 [==============================] - 0s 11ms/step - loss: 0.6478 - accuracy: 0.6439 - val_loss: 0.6265 - val_accuracy: 0.8267\n",
      "Epoch 47/300\n",
      "2/2 [==============================] - 0s 12ms/step - loss: 0.6569 - accuracy: 0.6311 - val_loss: 0.6247 - val_accuracy: 0.8317\n",
      "Epoch 48/300\n",
      "2/2 [==============================] - 0s 12ms/step - loss: 0.6638 - accuracy: 0.6077 - val_loss: 0.6231 - val_accuracy: 0.8366\n",
      "Epoch 49/300\n",
      "2/2 [==============================] - 0s 11ms/step - loss: 0.6417 - accuracy: 0.6631 - val_loss: 0.6214 - val_accuracy: 0.8366\n",
      "Epoch 50/300\n",
      "2/2 [==============================] - 0s 12ms/step - loss: 0.6349 - accuracy: 0.6567 - val_loss: 0.6195 - val_accuracy: 0.8267\n",
      "Epoch 51/300\n",
      "2/2 [==============================] - 0s 11ms/step - loss: 0.6462 - accuracy: 0.6674 - val_loss: 0.6175 - val_accuracy: 0.8317\n",
      "Epoch 52/300\n",
      "2/2 [==============================] - 0s 11ms/step - loss: 0.6344 - accuracy: 0.6716 - val_loss: 0.6157 - val_accuracy: 0.8267\n",
      "Epoch 53/300\n",
      "2/2 [==============================] - 0s 10ms/step - loss: 0.6485 - accuracy: 0.6247 - val_loss: 0.6140 - val_accuracy: 0.8267\n",
      "Epoch 54/300\n",
      "2/2 [==============================] - 0s 12ms/step - loss: 0.6578 - accuracy: 0.5991 - val_loss: 0.6125 - val_accuracy: 0.8267\n",
      "Epoch 55/300\n",
      "2/2 [==============================] - 0s 12ms/step - loss: 0.6350 - accuracy: 0.6567 - val_loss: 0.6109 - val_accuracy: 0.8267\n",
      "Epoch 56/300\n",
      "2/2 [==============================] - 0s 13ms/step - loss: 0.6383 - accuracy: 0.6418 - val_loss: 0.6093 - val_accuracy: 0.8218\n",
      "Epoch 57/300\n",
      "2/2 [==============================] - 0s 11ms/step - loss: 0.6459 - accuracy: 0.6482 - val_loss: 0.6079 - val_accuracy: 0.8218\n",
      "Epoch 58/300\n",
      "2/2 [==============================] - 0s 11ms/step - loss: 0.6244 - accuracy: 0.6930 - val_loss: 0.6062 - val_accuracy: 0.8218\n",
      "Epoch 59/300\n"
     ]
    },
    {
     "name": "stdout",
     "output_type": "stream",
     "text": [
      "2/2 [==============================] - 0s 10ms/step - loss: 0.6437 - accuracy: 0.6375 - val_loss: 0.6046 - val_accuracy: 0.8218\n",
      "Epoch 60/300\n",
      "2/2 [==============================] - 0s 11ms/step - loss: 0.6187 - accuracy: 0.7036 - val_loss: 0.6028 - val_accuracy: 0.8218\n",
      "Epoch 61/300\n",
      "2/2 [==============================] - 0s 11ms/step - loss: 0.6312 - accuracy: 0.6759 - val_loss: 0.6008 - val_accuracy: 0.8218\n",
      "Epoch 62/300\n",
      "2/2 [==============================] - 0s 13ms/step - loss: 0.6235 - accuracy: 0.6588 - val_loss: 0.5988 - val_accuracy: 0.8218\n",
      "Epoch 63/300\n",
      "2/2 [==============================] - 0s 11ms/step - loss: 0.6350 - accuracy: 0.6908 - val_loss: 0.5969 - val_accuracy: 0.8218\n",
      "Epoch 64/300\n",
      "2/2 [==============================] - 0s 12ms/step - loss: 0.6408 - accuracy: 0.6418 - val_loss: 0.5952 - val_accuracy: 0.8218\n",
      "Epoch 65/300\n",
      "2/2 [==============================] - 0s 12ms/step - loss: 0.6435 - accuracy: 0.6375 - val_loss: 0.5938 - val_accuracy: 0.8218\n",
      "Epoch 66/300\n",
      "2/2 [==============================] - 0s 13ms/step - loss: 0.6162 - accuracy: 0.7122 - val_loss: 0.5922 - val_accuracy: 0.8267\n",
      "Epoch 67/300\n",
      "2/2 [==============================] - 0s 13ms/step - loss: 0.6066 - accuracy: 0.7122 - val_loss: 0.5901 - val_accuracy: 0.8267\n",
      "Epoch 68/300\n",
      "2/2 [==============================] - 0s 13ms/step - loss: 0.6131 - accuracy: 0.7122 - val_loss: 0.5879 - val_accuracy: 0.8317\n",
      "Epoch 69/300\n",
      "2/2 [==============================] - 0s 13ms/step - loss: 0.6226 - accuracy: 0.7164 - val_loss: 0.5856 - val_accuracy: 0.8267\n",
      "Epoch 70/300\n",
      "2/2 [==============================] - 0s 13ms/step - loss: 0.6179 - accuracy: 0.6844 - val_loss: 0.5834 - val_accuracy: 0.8317\n",
      "Epoch 71/300\n",
      "2/2 [==============================] - 0s 12ms/step - loss: 0.6152 - accuracy: 0.6930 - val_loss: 0.5810 - val_accuracy: 0.8366\n",
      "Epoch 72/300\n",
      "2/2 [==============================] - 0s 12ms/step - loss: 0.6037 - accuracy: 0.7079 - val_loss: 0.5786 - val_accuracy: 0.8366\n",
      "Epoch 73/300\n",
      "2/2 [==============================] - 0s 11ms/step - loss: 0.6002 - accuracy: 0.6802 - val_loss: 0.5761 - val_accuracy: 0.8366\n",
      "Epoch 74/300\n",
      "2/2 [==============================] - 0s 12ms/step - loss: 0.6045 - accuracy: 0.6908 - val_loss: 0.5739 - val_accuracy: 0.8416\n",
      "Epoch 75/300\n",
      "2/2 [==============================] - 0s 12ms/step - loss: 0.6037 - accuracy: 0.6972 - val_loss: 0.5718 - val_accuracy: 0.8366\n",
      "Epoch 76/300\n",
      "2/2 [==============================] - 0s 12ms/step - loss: 0.6096 - accuracy: 0.7207 - val_loss: 0.5696 - val_accuracy: 0.8366\n",
      "Epoch 77/300\n",
      "2/2 [==============================] - 0s 13ms/step - loss: 0.5997 - accuracy: 0.7058 - val_loss: 0.5674 - val_accuracy: 0.8366\n",
      "Epoch 78/300\n",
      "2/2 [==============================] - 0s 11ms/step - loss: 0.6102 - accuracy: 0.6866 - val_loss: 0.5652 - val_accuracy: 0.8416\n",
      "Epoch 79/300\n",
      "2/2 [==============================] - 0s 11ms/step - loss: 0.6156 - accuracy: 0.6908 - val_loss: 0.5629 - val_accuracy: 0.8366\n",
      "Epoch 80/300\n",
      "2/2 [==============================] - 0s 11ms/step - loss: 0.6172 - accuracy: 0.7164 - val_loss: 0.5609 - val_accuracy: 0.8317\n",
      "Epoch 81/300\n",
      "2/2 [==============================] - 0s 10ms/step - loss: 0.5903 - accuracy: 0.7399 - val_loss: 0.5587 - val_accuracy: 0.8317\n",
      "Epoch 82/300\n",
      "2/2 [==============================] - 0s 11ms/step - loss: 0.5903 - accuracy: 0.7058 - val_loss: 0.5563 - val_accuracy: 0.8366\n",
      "Epoch 83/300\n",
      "2/2 [==============================] - 0s 11ms/step - loss: 0.6237 - accuracy: 0.7015 - val_loss: 0.5541 - val_accuracy: 0.8366\n",
      "Epoch 84/300\n",
      "2/2 [==============================] - 0s 11ms/step - loss: 0.5979 - accuracy: 0.6994 - val_loss: 0.5520 - val_accuracy: 0.8366\n",
      "Epoch 85/300\n",
      "2/2 [==============================] - 0s 10ms/step - loss: 0.6061 - accuracy: 0.7015 - val_loss: 0.5501 - val_accuracy: 0.8416\n",
      "Epoch 86/300\n",
      "2/2 [==============================] - 0s 10ms/step - loss: 0.5962 - accuracy: 0.6994 - val_loss: 0.5480 - val_accuracy: 0.8416\n",
      "Epoch 87/300\n",
      "2/2 [==============================] - 0s 11ms/step - loss: 0.5942 - accuracy: 0.7186 - val_loss: 0.5460 - val_accuracy: 0.8465\n",
      "Epoch 88/300\n",
      "2/2 [==============================] - 0s 11ms/step - loss: 0.5754 - accuracy: 0.7100 - val_loss: 0.5440 - val_accuracy: 0.8416\n",
      "Epoch 89/300\n",
      "2/2 [==============================] - 0s 11ms/step - loss: 0.5990 - accuracy: 0.7015 - val_loss: 0.5423 - val_accuracy: 0.8416\n",
      "Epoch 90/300\n",
      "2/2 [==============================] - 0s 10ms/step - loss: 0.5695 - accuracy: 0.7420 - val_loss: 0.5404 - val_accuracy: 0.8416\n",
      "Epoch 91/300\n",
      "2/2 [==============================] - 0s 12ms/step - loss: 0.5922 - accuracy: 0.7186 - val_loss: 0.5384 - val_accuracy: 0.8416\n",
      "Epoch 92/300\n",
      "2/2 [==============================] - 0s 11ms/step - loss: 0.5804 - accuracy: 0.7143 - val_loss: 0.5365 - val_accuracy: 0.8416\n",
      "Epoch 93/300\n",
      "2/2 [==============================] - 0s 11ms/step - loss: 0.5587 - accuracy: 0.7441 - val_loss: 0.5342 - val_accuracy: 0.8465\n",
      "Epoch 94/300\n",
      "2/2 [==============================] - 0s 10ms/step - loss: 0.5695 - accuracy: 0.7527 - val_loss: 0.5317 - val_accuracy: 0.8416\n",
      "Epoch 95/300\n",
      "2/2 [==============================] - 0s 12ms/step - loss: 0.5577 - accuracy: 0.7527 - val_loss: 0.5291 - val_accuracy: 0.8416\n",
      "Epoch 96/300\n",
      "2/2 [==============================] - 0s 10ms/step - loss: 0.5730 - accuracy: 0.7228 - val_loss: 0.5263 - val_accuracy: 0.8416\n",
      "Epoch 97/300\n",
      "2/2 [==============================] - 0s 11ms/step - loss: 0.5581 - accuracy: 0.7591 - val_loss: 0.5234 - val_accuracy: 0.8416\n",
      "Epoch 98/300\n",
      "2/2 [==============================] - 0s 10ms/step - loss: 0.5636 - accuracy: 0.7463 - val_loss: 0.5202 - val_accuracy: 0.8416\n",
      "Epoch 99/300\n",
      "2/2 [==============================] - 0s 11ms/step - loss: 0.5746 - accuracy: 0.7484 - val_loss: 0.5176 - val_accuracy: 0.8416\n",
      "Epoch 100/300\n",
      "2/2 [==============================] - 0s 10ms/step - loss: 0.5362 - accuracy: 0.7655 - val_loss: 0.5149 - val_accuracy: 0.8416\n",
      "Epoch 101/300\n",
      "2/2 [==============================] - 0s 11ms/step - loss: 0.5408 - accuracy: 0.7612 - val_loss: 0.5122 - val_accuracy: 0.8416\n",
      "Epoch 102/300\n",
      "2/2 [==============================] - 0s 10ms/step - loss: 0.5493 - accuracy: 0.7676 - val_loss: 0.5096 - val_accuracy: 0.8416\n",
      "Epoch 103/300\n",
      "2/2 [==============================] - 0s 11ms/step - loss: 0.5915 - accuracy: 0.7569 - val_loss: 0.5073 - val_accuracy: 0.8416\n",
      "Epoch 104/300\n",
      "2/2 [==============================] - 0s 10ms/step - loss: 0.5442 - accuracy: 0.7783 - val_loss: 0.5053 - val_accuracy: 0.8416\n",
      "Epoch 105/300\n",
      "2/2 [==============================] - 0s 10ms/step - loss: 0.5391 - accuracy: 0.7719 - val_loss: 0.5030 - val_accuracy: 0.8416\n",
      "Epoch 106/300\n",
      "2/2 [==============================] - 0s 10ms/step - loss: 0.5264 - accuracy: 0.7761 - val_loss: 0.5004 - val_accuracy: 0.8416\n",
      "Epoch 107/300\n",
      "2/2 [==============================] - 0s 11ms/step - loss: 0.5405 - accuracy: 0.7697 - val_loss: 0.4980 - val_accuracy: 0.8416\n",
      "Epoch 108/300\n",
      "2/2 [==============================] - 0s 11ms/step - loss: 0.5348 - accuracy: 0.7740 - val_loss: 0.4957 - val_accuracy: 0.8416\n",
      "Epoch 109/300\n",
      "2/2 [==============================] - 0s 10ms/step - loss: 0.5321 - accuracy: 0.7420 - val_loss: 0.4935 - val_accuracy: 0.8416\n",
      "Epoch 110/300\n",
      "2/2 [==============================] - 0s 10ms/step - loss: 0.5289 - accuracy: 0.7697 - val_loss: 0.4911 - val_accuracy: 0.8416\n",
      "Epoch 111/300\n",
      "2/2 [==============================] - 0s 10ms/step - loss: 0.5344 - accuracy: 0.7612 - val_loss: 0.4885 - val_accuracy: 0.8416\n",
      "Epoch 112/300\n",
      "2/2 [==============================] - 0s 11ms/step - loss: 0.5345 - accuracy: 0.7569 - val_loss: 0.4861 - val_accuracy: 0.8416\n",
      "Epoch 113/300\n",
      "2/2 [==============================] - 0s 11ms/step - loss: 0.5681 - accuracy: 0.7207 - val_loss: 0.4840 - val_accuracy: 0.8465\n",
      "Epoch 114/300\n",
      "2/2 [==============================] - 0s 10ms/step - loss: 0.5050 - accuracy: 0.7996 - val_loss: 0.4821 - val_accuracy: 0.8416\n",
      "Epoch 115/300\n",
      "2/2 [==============================] - 0s 10ms/step - loss: 0.5514 - accuracy: 0.7484 - val_loss: 0.4801 - val_accuracy: 0.8416\n",
      "Epoch 116/300\n",
      "2/2 [==============================] - 0s 10ms/step - loss: 0.5224 - accuracy: 0.7697 - val_loss: 0.4781 - val_accuracy: 0.8416\n",
      "Epoch 117/300\n"
     ]
    },
    {
     "name": "stdout",
     "output_type": "stream",
     "text": [
      "2/2 [==============================] - 0s 12ms/step - loss: 0.5140 - accuracy: 0.7846 - val_loss: 0.4763 - val_accuracy: 0.8416\n",
      "Epoch 118/300\n",
      "2/2 [==============================] - 0s 10ms/step - loss: 0.4979 - accuracy: 0.7974 - val_loss: 0.4744 - val_accuracy: 0.8416\n",
      "Epoch 119/300\n",
      "2/2 [==============================] - 0s 12ms/step - loss: 0.5012 - accuracy: 0.7868 - val_loss: 0.4724 - val_accuracy: 0.8416\n",
      "Epoch 120/300\n",
      "2/2 [==============================] - 0s 11ms/step - loss: 0.5366 - accuracy: 0.7548 - val_loss: 0.4708 - val_accuracy: 0.8465\n",
      "Epoch 121/300\n",
      "2/2 [==============================] - 0s 11ms/step - loss: 0.4861 - accuracy: 0.7889 - val_loss: 0.4695 - val_accuracy: 0.8416\n",
      "Epoch 122/300\n",
      "2/2 [==============================] - 0s 11ms/step - loss: 0.5169 - accuracy: 0.7783 - val_loss: 0.4684 - val_accuracy: 0.8416\n",
      "Epoch 123/300\n",
      "2/2 [==============================] - 0s 11ms/step - loss: 0.5107 - accuracy: 0.7932 - val_loss: 0.4673 - val_accuracy: 0.8416\n",
      "Epoch 124/300\n",
      "2/2 [==============================] - 0s 11ms/step - loss: 0.5101 - accuracy: 0.7783 - val_loss: 0.4661 - val_accuracy: 0.8416\n",
      "Epoch 125/300\n",
      "2/2 [==============================] - 0s 11ms/step - loss: 0.5027 - accuracy: 0.7761 - val_loss: 0.4647 - val_accuracy: 0.8416\n",
      "Epoch 126/300\n",
      "2/2 [==============================] - 0s 10ms/step - loss: 0.4793 - accuracy: 0.8145 - val_loss: 0.4630 - val_accuracy: 0.8366\n",
      "Epoch 127/300\n",
      "2/2 [==============================] - 0s 11ms/step - loss: 0.5218 - accuracy: 0.7953 - val_loss: 0.4612 - val_accuracy: 0.8366\n",
      "Epoch 128/300\n",
      "2/2 [==============================] - 0s 11ms/step - loss: 0.5061 - accuracy: 0.7804 - val_loss: 0.4595 - val_accuracy: 0.8366\n",
      "Epoch 129/300\n",
      "2/2 [==============================] - 0s 12ms/step - loss: 0.4958 - accuracy: 0.7932 - val_loss: 0.4579 - val_accuracy: 0.8366\n",
      "Epoch 130/300\n",
      "2/2 [==============================] - 0s 11ms/step - loss: 0.4823 - accuracy: 0.7825 - val_loss: 0.4558 - val_accuracy: 0.8366\n",
      "Epoch 131/300\n",
      "2/2 [==============================] - 0s 11ms/step - loss: 0.5263 - accuracy: 0.7932 - val_loss: 0.4537 - val_accuracy: 0.8416\n",
      "Epoch 132/300\n",
      "2/2 [==============================] - 0s 10ms/step - loss: 0.4861 - accuracy: 0.7846 - val_loss: 0.4518 - val_accuracy: 0.8465\n",
      "Epoch 133/300\n",
      "2/2 [==============================] - 0s 11ms/step - loss: 0.4860 - accuracy: 0.8102 - val_loss: 0.4502 - val_accuracy: 0.8465\n",
      "Epoch 134/300\n",
      "2/2 [==============================] - 0s 11ms/step - loss: 0.4815 - accuracy: 0.7932 - val_loss: 0.4486 - val_accuracy: 0.8465\n",
      "Epoch 135/300\n",
      "2/2 [==============================] - 0s 11ms/step - loss: 0.4955 - accuracy: 0.7868 - val_loss: 0.4472 - val_accuracy: 0.8465\n",
      "Epoch 136/300\n",
      "2/2 [==============================] - 0s 11ms/step - loss: 0.4790 - accuracy: 0.7889 - val_loss: 0.4456 - val_accuracy: 0.8465\n",
      "Epoch 137/300\n",
      "2/2 [==============================] - 0s 10ms/step - loss: 0.5040 - accuracy: 0.7932 - val_loss: 0.4442 - val_accuracy: 0.8465\n",
      "Epoch 138/300\n",
      "2/2 [==============================] - 0s 11ms/step - loss: 0.4728 - accuracy: 0.7974 - val_loss: 0.4431 - val_accuracy: 0.8465\n",
      "Epoch 139/300\n",
      "2/2 [==============================] - 0s 11ms/step - loss: 0.4742 - accuracy: 0.8102 - val_loss: 0.4421 - val_accuracy: 0.8465\n",
      "Epoch 140/300\n",
      "2/2 [==============================] - 0s 11ms/step - loss: 0.4656 - accuracy: 0.8081 - val_loss: 0.4410 - val_accuracy: 0.8366\n",
      "Epoch 141/300\n",
      "2/2 [==============================] - 0s 10ms/step - loss: 0.4883 - accuracy: 0.7932 - val_loss: 0.4402 - val_accuracy: 0.8366\n",
      "Epoch 142/300\n",
      "2/2 [==============================] - 0s 12ms/step - loss: 0.4706 - accuracy: 0.7889 - val_loss: 0.4394 - val_accuracy: 0.8267\n",
      "Epoch 143/300\n",
      "2/2 [==============================] - 0s 11ms/step - loss: 0.4882 - accuracy: 0.8017 - val_loss: 0.4388 - val_accuracy: 0.8317\n",
      "Epoch 144/300\n",
      "2/2 [==============================] - 0s 11ms/step - loss: 0.4798 - accuracy: 0.7996 - val_loss: 0.4383 - val_accuracy: 0.8317\n",
      "Epoch 145/300\n",
      "2/2 [==============================] - 0s 12ms/step - loss: 0.4698 - accuracy: 0.7996 - val_loss: 0.4378 - val_accuracy: 0.8317\n",
      "Epoch 146/300\n",
      "2/2 [==============================] - 0s 11ms/step - loss: 0.4716 - accuracy: 0.7996 - val_loss: 0.4371 - val_accuracy: 0.8317\n",
      "Epoch 147/300\n",
      "2/2 [==============================] - 0s 12ms/step - loss: 0.4605 - accuracy: 0.8124 - val_loss: 0.4358 - val_accuracy: 0.8317\n",
      "Epoch 148/300\n",
      "2/2 [==============================] - 0s 12ms/step - loss: 0.4694 - accuracy: 0.7996 - val_loss: 0.4345 - val_accuracy: 0.8317\n",
      "Epoch 149/300\n",
      "2/2 [==============================] - 0s 11ms/step - loss: 0.4982 - accuracy: 0.7825 - val_loss: 0.4335 - val_accuracy: 0.8317\n",
      "Epoch 150/300\n",
      "2/2 [==============================] - 0s 12ms/step - loss: 0.4467 - accuracy: 0.8166 - val_loss: 0.4326 - val_accuracy: 0.8366\n",
      "Epoch 151/300\n",
      "2/2 [==============================] - 0s 12ms/step - loss: 0.4597 - accuracy: 0.8188 - val_loss: 0.4316 - val_accuracy: 0.8366\n",
      "Epoch 152/300\n",
      "2/2 [==============================] - 0s 10ms/step - loss: 0.4652 - accuracy: 0.8124 - val_loss: 0.4309 - val_accuracy: 0.8366\n",
      "Epoch 153/300\n",
      "2/2 [==============================] - 0s 11ms/step - loss: 0.4491 - accuracy: 0.8145 - val_loss: 0.4301 - val_accuracy: 0.8317\n",
      "Epoch 154/300\n",
      "2/2 [==============================] - 0s 12ms/step - loss: 0.4582 - accuracy: 0.8273 - val_loss: 0.4291 - val_accuracy: 0.8366\n",
      "Epoch 155/300\n",
      "2/2 [==============================] - 0s 11ms/step - loss: 0.4560 - accuracy: 0.8166 - val_loss: 0.4281 - val_accuracy: 0.8366\n",
      "Epoch 156/300\n",
      "2/2 [==============================] - 0s 11ms/step - loss: 0.4876 - accuracy: 0.8017 - val_loss: 0.4274 - val_accuracy: 0.8366\n",
      "Epoch 157/300\n",
      "2/2 [==============================] - 0s 10ms/step - loss: 0.4503 - accuracy: 0.8145 - val_loss: 0.4267 - val_accuracy: 0.8366\n",
      "Epoch 158/300\n",
      "2/2 [==============================] - 0s 11ms/step - loss: 0.4275 - accuracy: 0.8337 - val_loss: 0.4260 - val_accuracy: 0.8366\n",
      "Epoch 159/300\n",
      "2/2 [==============================] - 0s 10ms/step - loss: 0.4504 - accuracy: 0.8124 - val_loss: 0.4255 - val_accuracy: 0.8366\n",
      "Epoch 160/300\n",
      "2/2 [==============================] - 0s 11ms/step - loss: 0.4577 - accuracy: 0.7996 - val_loss: 0.4250 - val_accuracy: 0.8366\n",
      "Epoch 161/300\n",
      "2/2 [==============================] - 0s 10ms/step - loss: 0.4323 - accuracy: 0.8422 - val_loss: 0.4245 - val_accuracy: 0.8317\n",
      "Epoch 162/300\n",
      "2/2 [==============================] - 0s 10ms/step - loss: 0.4601 - accuracy: 0.8102 - val_loss: 0.4238 - val_accuracy: 0.8317\n",
      "Epoch 163/300\n",
      "2/2 [==============================] - 0s 11ms/step - loss: 0.4973 - accuracy: 0.7910 - val_loss: 0.4230 - val_accuracy: 0.8317\n",
      "Epoch 164/300\n",
      "2/2 [==============================] - 0s 11ms/step - loss: 0.4557 - accuracy: 0.8145 - val_loss: 0.4225 - val_accuracy: 0.8317\n",
      "Epoch 165/300\n",
      "2/2 [==============================] - 0s 10ms/step - loss: 0.4600 - accuracy: 0.8081 - val_loss: 0.4220 - val_accuracy: 0.8317\n",
      "Epoch 166/300\n",
      "2/2 [==============================] - 0s 11ms/step - loss: 0.4595 - accuracy: 0.7996 - val_loss: 0.4215 - val_accuracy: 0.8317\n",
      "Epoch 167/300\n",
      "2/2 [==============================] - 0s 10ms/step - loss: 0.4447 - accuracy: 0.8380 - val_loss: 0.4214 - val_accuracy: 0.8317\n",
      "Epoch 168/300\n",
      "2/2 [==============================] - 0s 11ms/step - loss: 0.4680 - accuracy: 0.8209 - val_loss: 0.4211 - val_accuracy: 0.8317\n",
      "Epoch 169/300\n",
      "2/2 [==============================] - 0s 11ms/step - loss: 0.4396 - accuracy: 0.8188 - val_loss: 0.4206 - val_accuracy: 0.8317\n",
      "Epoch 170/300\n",
      "2/2 [==============================] - 0s 11ms/step - loss: 0.4521 - accuracy: 0.8166 - val_loss: 0.4199 - val_accuracy: 0.8317\n",
      "Epoch 171/300\n",
      "2/2 [==============================] - 0s 11ms/step - loss: 0.4400 - accuracy: 0.8550 - val_loss: 0.4192 - val_accuracy: 0.8317\n",
      "Epoch 172/300\n",
      "2/2 [==============================] - 0s 11ms/step - loss: 0.4300 - accuracy: 0.8230 - val_loss: 0.4186 - val_accuracy: 0.8366\n",
      "Epoch 173/300\n",
      "2/2 [==============================] - 0s 11ms/step - loss: 0.4178 - accuracy: 0.8465 - val_loss: 0.4183 - val_accuracy: 0.8317\n",
      "Epoch 174/300\n",
      "2/2 [==============================] - 0s 11ms/step - loss: 0.4515 - accuracy: 0.8230 - val_loss: 0.4179 - val_accuracy: 0.8366\n"
     ]
    },
    {
     "name": "stdout",
     "output_type": "stream",
     "text": [
      "Epoch 175/300\n",
      "2/2 [==============================] - 0s 10ms/step - loss: 0.4229 - accuracy: 0.8230 - val_loss: 0.4174 - val_accuracy: 0.8366\n",
      "Epoch 176/300\n",
      "2/2 [==============================] - 0s 10ms/step - loss: 0.4204 - accuracy: 0.8465 - val_loss: 0.4171 - val_accuracy: 0.8366\n",
      "Epoch 177/300\n",
      "2/2 [==============================] - 0s 12ms/step - loss: 0.4280 - accuracy: 0.8273 - val_loss: 0.4168 - val_accuracy: 0.8366\n",
      "Epoch 178/300\n",
      "2/2 [==============================] - 0s 11ms/step - loss: 0.4380 - accuracy: 0.8529 - val_loss: 0.4167 - val_accuracy: 0.8317\n",
      "Epoch 179/300\n",
      "2/2 [==============================] - 0s 11ms/step - loss: 0.4051 - accuracy: 0.8422 - val_loss: 0.4163 - val_accuracy: 0.8317\n",
      "Epoch 180/300\n",
      "2/2 [==============================] - 0s 10ms/step - loss: 0.4626 - accuracy: 0.7996 - val_loss: 0.4158 - val_accuracy: 0.8317\n",
      "Epoch 181/300\n",
      "2/2 [==============================] - 0s 11ms/step - loss: 0.4399 - accuracy: 0.8252 - val_loss: 0.4155 - val_accuracy: 0.8317\n",
      "Epoch 182/300\n",
      "2/2 [==============================] - 0s 11ms/step - loss: 0.4558 - accuracy: 0.8102 - val_loss: 0.4150 - val_accuracy: 0.8317\n",
      "Epoch 183/300\n",
      "2/2 [==============================] - 0s 11ms/step - loss: 0.3830 - accuracy: 0.8593 - val_loss: 0.4145 - val_accuracy: 0.8366\n",
      "Epoch 184/300\n",
      "2/2 [==============================] - 0s 10ms/step - loss: 0.4304 - accuracy: 0.8401 - val_loss: 0.4138 - val_accuracy: 0.8366\n",
      "Epoch 185/300\n",
      "2/2 [==============================] - 0s 11ms/step - loss: 0.4064 - accuracy: 0.8529 - val_loss: 0.4133 - val_accuracy: 0.8366\n",
      "Epoch 186/300\n",
      "2/2 [==============================] - 0s 11ms/step - loss: 0.4255 - accuracy: 0.8593 - val_loss: 0.4133 - val_accuracy: 0.8317\n",
      "Epoch 187/300\n",
      "2/2 [==============================] - 0s 11ms/step - loss: 0.4074 - accuracy: 0.8422 - val_loss: 0.4129 - val_accuracy: 0.8317\n",
      "Epoch 188/300\n",
      "2/2 [==============================] - 0s 12ms/step - loss: 0.4188 - accuracy: 0.8337 - val_loss: 0.4121 - val_accuracy: 0.8317\n",
      "Epoch 189/300\n",
      "2/2 [==============================] - 0s 11ms/step - loss: 0.4212 - accuracy: 0.8294 - val_loss: 0.4110 - val_accuracy: 0.8317\n",
      "Epoch 190/300\n",
      "2/2 [==============================] - 0s 11ms/step - loss: 0.4028 - accuracy: 0.8316 - val_loss: 0.4100 - val_accuracy: 0.8317\n",
      "Epoch 191/300\n",
      "2/2 [==============================] - 0s 11ms/step - loss: 0.4303 - accuracy: 0.8401 - val_loss: 0.4093 - val_accuracy: 0.8267\n",
      "Epoch 192/300\n",
      "2/2 [==============================] - 0s 11ms/step - loss: 0.4175 - accuracy: 0.8422 - val_loss: 0.4089 - val_accuracy: 0.8267\n",
      "Epoch 193/300\n",
      "2/2 [==============================] - 0s 11ms/step - loss: 0.4253 - accuracy: 0.8422 - val_loss: 0.4083 - val_accuracy: 0.8267\n",
      "Epoch 194/300\n",
      "2/2 [==============================] - 0s 11ms/step - loss: 0.4048 - accuracy: 0.8422 - val_loss: 0.4077 - val_accuracy: 0.8267\n",
      "Epoch 195/300\n",
      "2/2 [==============================] - 0s 12ms/step - loss: 0.4003 - accuracy: 0.8443 - val_loss: 0.4075 - val_accuracy: 0.8267\n",
      "Epoch 196/300\n",
      "2/2 [==============================] - 0s 12ms/step - loss: 0.3979 - accuracy: 0.8593 - val_loss: 0.4078 - val_accuracy: 0.8218\n",
      "Epoch 197/300\n",
      "2/2 [==============================] - 0s 13ms/step - loss: 0.3892 - accuracy: 0.8358 - val_loss: 0.4083 - val_accuracy: 0.8267\n",
      "Epoch 198/300\n",
      "2/2 [==============================] - 0s 12ms/step - loss: 0.4021 - accuracy: 0.8507 - val_loss: 0.4088 - val_accuracy: 0.8267\n",
      "Epoch 199/300\n",
      "2/2 [==============================] - 0s 11ms/step - loss: 0.4184 - accuracy: 0.8316 - val_loss: 0.4093 - val_accuracy: 0.8267\n",
      "Epoch 200/300\n",
      "2/2 [==============================] - 0s 11ms/step - loss: 0.3919 - accuracy: 0.8550 - val_loss: 0.4099 - val_accuracy: 0.8267\n",
      "Epoch 201/300\n",
      "2/2 [==============================] - 0s 12ms/step - loss: 0.4357 - accuracy: 0.8273 - val_loss: 0.4108 - val_accuracy: 0.8267\n",
      "Epoch 202/300\n",
      "2/2 [==============================] - 0s 11ms/step - loss: 0.4039 - accuracy: 0.8486 - val_loss: 0.4112 - val_accuracy: 0.8267\n",
      "Epoch 203/300\n",
      "2/2 [==============================] - 0s 12ms/step - loss: 0.4008 - accuracy: 0.8380 - val_loss: 0.4109 - val_accuracy: 0.8267\n",
      "Epoch 204/300\n",
      "2/2 [==============================] - 0s 12ms/step - loss: 0.3762 - accuracy: 0.8635 - val_loss: 0.4106 - val_accuracy: 0.8267\n",
      "Epoch 205/300\n",
      "2/2 [==============================] - 0s 11ms/step - loss: 0.3865 - accuracy: 0.8507 - val_loss: 0.4101 - val_accuracy: 0.8267\n",
      "Epoch 206/300\n",
      "2/2 [==============================] - 0s 11ms/step - loss: 0.4300 - accuracy: 0.8486 - val_loss: 0.4098 - val_accuracy: 0.8267\n",
      "Epoch 207/300\n",
      "2/2 [==============================] - 0s 11ms/step - loss: 0.4196 - accuracy: 0.8316 - val_loss: 0.4094 - val_accuracy: 0.8267\n",
      "Epoch 208/300\n",
      "2/2 [==============================] - 0s 11ms/step - loss: 0.4058 - accuracy: 0.8443 - val_loss: 0.4089 - val_accuracy: 0.8267\n",
      "Epoch 209/300\n",
      "2/2 [==============================] - 0s 11ms/step - loss: 0.4187 - accuracy: 0.8337 - val_loss: 0.4081 - val_accuracy: 0.8267\n",
      "Epoch 210/300\n",
      "2/2 [==============================] - 0s 10ms/step - loss: 0.4114 - accuracy: 0.8443 - val_loss: 0.4076 - val_accuracy: 0.8267\n",
      "Epoch 211/300\n",
      "2/2 [==============================] - 0s 11ms/step - loss: 0.4458 - accuracy: 0.8422 - val_loss: 0.4075 - val_accuracy: 0.8267\n",
      "Epoch 212/300\n",
      "2/2 [==============================] - 0s 11ms/step - loss: 0.4123 - accuracy: 0.8507 - val_loss: 0.4074 - val_accuracy: 0.8267\n",
      "Epoch 213/300\n",
      "2/2 [==============================] - 0s 11ms/step - loss: 0.4183 - accuracy: 0.8380 - val_loss: 0.4071 - val_accuracy: 0.8267\n",
      "Epoch 214/300\n",
      "2/2 [==============================] - 0s 11ms/step - loss: 0.3830 - accuracy: 0.8486 - val_loss: 0.4066 - val_accuracy: 0.8267\n",
      "Epoch 215/300\n",
      "2/2 [==============================] - 0s 12ms/step - loss: 0.3616 - accuracy: 0.8742 - val_loss: 0.4066 - val_accuracy: 0.8317\n",
      "Epoch 216/300\n",
      "2/2 [==============================] - 0s 11ms/step - loss: 0.4256 - accuracy: 0.8102 - val_loss: 0.4067 - val_accuracy: 0.8317\n",
      "Epoch 217/300\n",
      "2/2 [==============================] - 0s 11ms/step - loss: 0.4350 - accuracy: 0.8443 - val_loss: 0.4069 - val_accuracy: 0.8317\n",
      "Epoch 218/300\n",
      "2/2 [==============================] - 0s 12ms/step - loss: 0.4038 - accuracy: 0.8486 - val_loss: 0.4073 - val_accuracy: 0.8317\n",
      "Epoch 219/300\n",
      "2/2 [==============================] - 0s 12ms/step - loss: 0.4109 - accuracy: 0.8230 - val_loss: 0.4075 - val_accuracy: 0.8317\n",
      "Epoch 220/300\n",
      "2/2 [==============================] - 0s 11ms/step - loss: 0.3966 - accuracy: 0.8422 - val_loss: 0.4076 - val_accuracy: 0.8317\n",
      "Epoch 221/300\n",
      "2/2 [==============================] - 0s 11ms/step - loss: 0.3814 - accuracy: 0.8401 - val_loss: 0.4074 - val_accuracy: 0.8317\n",
      "Epoch 222/300\n",
      "2/2 [==============================] - 0s 11ms/step - loss: 0.3636 - accuracy: 0.8934 - val_loss: 0.4071 - val_accuracy: 0.8317\n",
      "Epoch 223/300\n",
      "2/2 [==============================] - 0s 11ms/step - loss: 0.3863 - accuracy: 0.8486 - val_loss: 0.4070 - val_accuracy: 0.8317\n",
      "Epoch 224/300\n",
      "2/2 [==============================] - 0s 11ms/step - loss: 0.3823 - accuracy: 0.8507 - val_loss: 0.4072 - val_accuracy: 0.8317\n",
      "Epoch 225/300\n",
      "2/2 [==============================] - 0s 12ms/step - loss: 0.3497 - accuracy: 0.8593 - val_loss: 0.4073 - val_accuracy: 0.8218\n",
      "Epoch 226/300\n",
      "2/2 [==============================] - 0s 11ms/step - loss: 0.3534 - accuracy: 0.8614 - val_loss: 0.4070 - val_accuracy: 0.8218\n",
      "Epoch 227/300\n",
      "2/2 [==============================] - 0s 13ms/step - loss: 0.3989 - accuracy: 0.8443 - val_loss: 0.4067 - val_accuracy: 0.8218\n",
      "Epoch 228/300\n",
      "2/2 [==============================] - 0s 12ms/step - loss: 0.3954 - accuracy: 0.8529 - val_loss: 0.4066 - val_accuracy: 0.8267\n",
      "Epoch 229/300\n",
      "2/2 [==============================] - 0s 11ms/step - loss: 0.4013 - accuracy: 0.8507 - val_loss: 0.4068 - val_accuracy: 0.8267\n",
      "Epoch 230/300\n",
      "2/2 [==============================] - 0s 16ms/step - loss: 0.3882 - accuracy: 0.8443 - val_loss: 0.4075 - val_accuracy: 0.8218\n",
      "Epoch 231/300\n",
      "2/2 [==============================] - 0s 13ms/step - loss: 0.3524 - accuracy: 0.8571 - val_loss: 0.4083 - val_accuracy: 0.8218\n",
      "Epoch 232/300\n",
      "2/2 [==============================] - 0s 12ms/step - loss: 0.3822 - accuracy: 0.8614 - val_loss: 0.4094 - val_accuracy: 0.8218\n"
     ]
    },
    {
     "name": "stdout",
     "output_type": "stream",
     "text": [
      "Epoch 233/300\n",
      "2/2 [==============================] - 0s 12ms/step - loss: 0.3553 - accuracy: 0.8657 - val_loss: 0.4099 - val_accuracy: 0.8218\n",
      "Epoch 234/300\n",
      "2/2 [==============================] - 0s 16ms/step - loss: 0.3990 - accuracy: 0.8593 - val_loss: 0.4099 - val_accuracy: 0.8168\n",
      "Epoch 235/300\n",
      "2/2 [==============================] - 0s 14ms/step - loss: 0.3569 - accuracy: 0.8593 - val_loss: 0.4098 - val_accuracy: 0.8168\n",
      "Epoch 236/300\n",
      "2/2 [==============================] - 0s 15ms/step - loss: 0.3580 - accuracy: 0.8721 - val_loss: 0.4095 - val_accuracy: 0.8168\n",
      "Epoch 237/300\n",
      "2/2 [==============================] - 0s 14ms/step - loss: 0.3783 - accuracy: 0.8486 - val_loss: 0.4091 - val_accuracy: 0.8168\n",
      "Epoch 238/300\n",
      "2/2 [==============================] - 0s 13ms/step - loss: 0.4146 - accuracy: 0.8550 - val_loss: 0.4095 - val_accuracy: 0.8168\n",
      "Epoch 239/300\n",
      "2/2 [==============================] - 0s 12ms/step - loss: 0.3657 - accuracy: 0.8657 - val_loss: 0.4096 - val_accuracy: 0.8218\n",
      "Epoch 240/300\n",
      "2/2 [==============================] - 0s 12ms/step - loss: 0.3626 - accuracy: 0.8614 - val_loss: 0.4098 - val_accuracy: 0.8168\n",
      "Epoch 240: early stopping\n"
     ]
    },
    {
     "data": {
      "text/plain": [
       "<keras.callbacks.History at 0x2bb623be0>"
      ]
     },
     "execution_count": 715,
     "metadata": {},
     "output_type": "execute_result"
    }
   ],
   "source": [
    "model.fit(X_train,y_train,batch_size=256,epochs=300,\n",
    "          verbose=1,validation_data=(X_test,y_test),callbacks = [early_stopping])"
   ]
  },
  {
   "cell_type": "code",
   "execution_count": 716,
   "id": "aabe5c34",
   "metadata": {},
   "outputs": [
    {
     "data": {
      "text/plain": [
       "[]"
      ]
     },
     "execution_count": 716,
     "metadata": {},
     "output_type": "execute_result"
    },
    {
     "data": {
      "image/png": "[encoded data removed]",
      "text/plain": [
       "<Figure size 640x480 with 1 Axes>"
      ]
     },
     "metadata": {},
     "output_type": "display_data"
    }
   ],
   "source": [
    "model_loss = pd.DataFrame(model.history.history).plot()\n",
    "model_loss.plot()"
   ]
  },
  {
   "cell_type": "code",
   "execution_count": 717,
   "id": "6272e555",
   "metadata": {},
   "outputs": [
    {
     "name": "stdout",
     "output_type": "stream",
     "text": [
      "7/7 [==============================] - 0s 601us/step\n"
     ]
    }
   ],
   "source": [
    "predictions = model.predict(X_test)\n",
    "predictions = predictions.reshape(-1)"
   ]
  },
  {
   "cell_type": "code",
   "execution_count": 718,
   "id": "86d01dbc",
   "metadata": {},
   "outputs": [],
   "source": [
    "for i in range(len(predictions)):\n",
    "    if predictions[i] > 0.5:\n",
    "        predictions[i] = 1\n",
    "    else:\n",
    "        predictions[i] = 0"
   ]
  },
  {
   "cell_type": "code",
   "execution_count": 719,
   "id": "269a2e92",
   "metadata": {},
   "outputs": [
    {
     "name": "stdout",
     "output_type": "stream",
     "text": [
      "Accuracy = 0.82\n"
     ]
    },
    {
     "data": {
      "text/plain": [
       "(Predicted  0.0  1.0\n",
       " Actual             \n",
       " 0          103   14\n",
       " 1           23   62,\n",
       " 0.8168316831683168)"
      ]
     },
     "execution_count": 719,
     "metadata": {},
     "output_type": "execute_result"
    }
   ],
   "source": [
    "compare_classes(y_test,predictions)"
   ]
  },
  {
   "cell_type": "code",
   "execution_count": 728,
   "id": "794564de",
   "metadata": {},
   "outputs": [
    {
     "name": "stdout",
     "output_type": "stream",
     "text": [
      "15/15 [==============================] - 0s 558us/step - loss: 0.2615 - accuracy: 0.9168\n",
      "score on train: 0.916844367980957\n",
      "7/7 [==============================] - 0s 487us/step - loss: 0.4098 - accuracy: 0.8168\n",
      "score on test: 0.8168317079544067\n"
     ]
    }
   ],
   "source": [
    "print(\"score on train:\", model.evaluate(X_train,y_train)[1])\n",
    "print(\"score on test:\", model.evaluate(X_test,y_test)[1])"
   ]
  },
  {
   "cell_type": "code",
   "execution_count": 740,
   "id": "97e96507",
   "metadata": {},
   "outputs": [],
   "source": [
    "classification_model = ['Random Forest','KNN','Naive-Bayes','SVM','Neural Network']\n",
    "column = ['Algorithm','Train','Test']\n",
    "classification_rows = [['Random Forest',0.9133960440622495,0.865891132572432],\n",
    "                      ['KNN',0.8226530152768168,0.8331650570676032],\n",
    "                      ['Naive-Bayes',0.6749461851888461,0.6766022827041265],\n",
    "                       ['SVM',0.8837567131231261,0.8733757682177348],\n",
    "                       ['Neural Network',0.916844367980957,0.8168317079544067]]"
   ]
  },
  {
   "cell_type": "code",
   "execution_count": 744,
   "id": "a7848bb4",
   "metadata": {},
   "outputs": [],
   "source": [
    "final_result = pd.DataFrame(classification_rows,columns=column)"
   ]
  },
  {
   "cell_type": "code",
   "execution_count": 746,
   "id": "def7550d",
   "metadata": {},
   "outputs": [],
   "source": [
    "final_result['OF'] = final_result['Train'] - final_result['Test']"
   ]
  },
  {
   "cell_type": "code",
   "execution_count": 751,
   "id": "70a872da",
   "metadata": {},
   "outputs": [
    {
     "data": {
      "text/html": [
       "<div>\n",
       "<style scoped>\n",
       "    .dataframe tbody tr th:only-of-type {\n",
       "        vertical-align: middle;\n",
       "    }\n",
       "\n",
       "    .dataframe tbody tr th {\n",
       "        vertical-align: top;\n",
       "    }\n",
       "\n",
       "    .dataframe thead th {\n",
       "        text-align: right;\n",
       "    }\n",
       "</style>\n",
       "<table border=\"1\" class=\"dataframe\">\n",
       "  <thead>\n",
       "    <tr style=\"text-align: right;\">\n",
       "      <th></th>\n",
       "      <th>Algorithm</th>\n",
       "      <th>Train</th>\n",
       "      <th>Test</th>\n",
       "      <th>OF</th>\n",
       "    </tr>\n",
       "  </thead>\n",
       "  <tbody>\n",
       "    <tr>\n",
       "      <th>3</th>\n",
       "      <td>SVM</td>\n",
       "      <td>0.883757</td>\n",
       "      <td>0.873376</td>\n",
       "      <td>0.010381</td>\n",
       "    </tr>\n",
       "    <tr>\n",
       "      <th>0</th>\n",
       "      <td>Random Forest</td>\n",
       "      <td>0.913396</td>\n",
       "      <td>0.865891</td>\n",
       "      <td>0.047505</td>\n",
       "    </tr>\n",
       "    <tr>\n",
       "      <th>1</th>\n",
       "      <td>KNN</td>\n",
       "      <td>0.822653</td>\n",
       "      <td>0.833165</td>\n",
       "      <td>-0.010512</td>\n",
       "    </tr>\n",
       "    <tr>\n",
       "      <th>4</th>\n",
       "      <td>Neural Network</td>\n",
       "      <td>0.916844</td>\n",
       "      <td>0.816832</td>\n",
       "      <td>0.100013</td>\n",
       "    </tr>\n",
       "    <tr>\n",
       "      <th>2</th>\n",
       "      <td>Naive-Bayes</td>\n",
       "      <td>0.674946</td>\n",
       "      <td>0.676602</td>\n",
       "      <td>-0.001656</td>\n",
       "    </tr>\n",
       "  </tbody>\n",
       "</table>\n",
       "</div>"
      ],
      "text/plain": [
       "        Algorithm     Train      Test        OF\n",
       "3             SVM  0.883757  0.873376  0.010381\n",
       "0   Random Forest  0.913396  0.865891  0.047505\n",
       "1             KNN  0.822653  0.833165 -0.010512\n",
       "4  Neural Network  0.916844  0.816832  0.100013\n",
       "2     Naive-Bayes  0.674946  0.676602 -0.001656"
      ]
     },
     "execution_count": 751,
     "metadata": {},
     "output_type": "execute_result"
    }
   ],
   "source": [
    "final_result.sort_values('Test',ascending=False)"
   ]
  },
  {
   "cell_type": "markdown",
   "id": "0ac974d9",
   "metadata": {},
   "source": [
    "## Conclusion: Linear SVM performs best with about 87% accuracy without much overfitting."
   ]
  }
 ],
 "metadata": {
  "kernelspec": {
   "display_name": "Python 3 (ipykernel)",
   "language": "python",
   "name": "python3"
  },
  "language_info": {
   "codemirror_mode": {
    "name": "ipython",
    "version": 3
   },
   "file_extension": ".py",
   "mimetype": "text/x-python",
   "name": "python",
   "nbconvert_exporter": "python",
   "pygments_lexer": "ipython3",
   "version": "3.10.6"
  }
 },
 "nbformat": 4,
 "nbformat_minor": 5
}
